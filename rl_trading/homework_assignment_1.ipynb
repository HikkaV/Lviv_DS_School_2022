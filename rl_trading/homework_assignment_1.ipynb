{
 "cells": [
  {
   "cell_type": "code",
   "execution_count": 1,
   "id": "bb8f9cd6",
   "metadata": {},
   "outputs": [],
   "source": [
    "import os \n",
    "import numpy as np\n",
    "import pandas as pd\n",
    "from sklearn.metrics import f1_score\n",
    "from sklearn.ensemble import RandomForestClassifier\n",
    "import time"
   ]
  },
  {
   "cell_type": "code",
   "execution_count": 2,
   "id": "a081c09b",
   "metadata": {},
   "outputs": [],
   "source": [
    "ABS_PATH_TRAIN = 'NoAuction/1.NoAuction_Zscore/NoAuction_Zscore_Training'\n",
    "ABS_PATH_VAL = 'NoAuction/1.NoAuction_Zscore/NoAuction_Zscore_Testing'"
   ]
  },
  {
   "cell_type": "markdown",
   "id": "49bb1ce5",
   "metadata": {},
   "source": [
    "#### use same data as the one that gave the best results in terms of model + same sort of experiments"
   ]
  },
  {
   "cell_type": "markdown",
   "id": "59530eea",
   "metadata": {},
   "source": [
    "# Actual training"
   ]
  },
  {
   "cell_type": "code",
   "execution_count": 11,
   "id": "16bef31c",
   "metadata": {},
   "outputs": [],
   "source": [
    "classifier = RandomForestClassifier(n_estimators=200,\n",
    "                                       max_depth=30,\n",
    "                                       n_jobs=6,\n",
    "                                   random_state=0,\n",
    "                                   class_weight='balanced')"
   ]
  },
  {
   "cell_type": "code",
   "execution_count": 12,
   "id": "710a7547",
   "metadata": {},
   "outputs": [],
   "source": [
    "train_files = os.listdir(ABS_PATH_TRAIN)\n",
    "val_files = os.listdir(ABS_PATH_VAL)"
   ]
  },
  {
   "cell_type": "code",
   "execution_count": 13,
   "id": "39bcbcec",
   "metadata": {},
   "outputs": [
    {
     "name": "stdout",
     "output_type": "stream",
     "text": [
      "Train f1 score for 1 days and level 1 is 0.9972222735776196\n",
      "Vlidation f1 score for 1 days and level 1 is 0.4556038805468159\n",
      "******************************\n",
      "Train f1 score for 1 days and level 2 is 0.9910284418844834\n",
      "Vlidation f1 score for 1 days and level 2 is 0.2259651973840676\n",
      "******************************\n",
      "Train f1 score for 1 days and level 3 is 0.9947433972873253\n",
      "Vlidation f1 score for 1 days and level 3 is 0.2385151053416412\n",
      "******************************\n",
      "Train f1 score for 1 days and level 5 is 0.9954447580602054\n",
      "Vlidation f1 score for 1 days and level 5 is 0.2726077335837895\n",
      "******************************\n",
      "Train f1 score for 1 days and level 10 is 0.9946308001828656\n",
      "Vlidation f1 score for 1 days and level 10 is 0.37280158584872014\n",
      "******************************\n",
      "Train f1 score for 2 days and level 1 is 0.9960395494091271\n",
      "Vlidation f1 score for 2 days and level 1 is 0.4963265664004059\n",
      "******************************\n",
      "Train f1 score for 2 days and level 2 is 0.9898153450972496\n",
      "Vlidation f1 score for 2 days and level 2 is 0.2373470169442324\n",
      "******************************\n",
      "Train f1 score for 2 days and level 3 is 0.9935512543689606\n",
      "Vlidation f1 score for 2 days and level 3 is 0.25395812395384293\n",
      "******************************\n",
      "Train f1 score for 2 days and level 5 is 0.9941364237212286\n",
      "Vlidation f1 score for 2 days and level 5 is 0.30818579187492606\n",
      "******************************\n",
      "Train f1 score for 2 days and level 10 is 0.9935751111990795\n",
      "Vlidation f1 score for 2 days and level 10 is 0.39040955378977266\n",
      "******************************\n",
      "Train f1 score for 3 days and level 1 is 0.9985263276668684\n",
      "Vlidation f1 score for 3 days and level 1 is 0.41409492369911577\n",
      "******************************\n",
      "Train f1 score for 3 days and level 2 is 0.9981088077414411\n",
      "Vlidation f1 score for 3 days and level 2 is 0.6200093989771177\n",
      "******************************\n",
      "Train f1 score for 3 days and level 3 is 0.9979580061614386\n",
      "Vlidation f1 score for 3 days and level 3 is 0.5536052715157651\n",
      "******************************\n",
      "Train f1 score for 3 days and level 5 is 0.9978413216160829\n",
      "Vlidation f1 score for 3 days and level 5 is 0.42269256501600055\n",
      "******************************\n",
      "Train f1 score for 3 days and level 10 is 0.9962541041440737\n",
      "Vlidation f1 score for 3 days and level 10 is 0.3486944429678836\n",
      "******************************\n",
      "Train f1 score for 4 days and level 1 is 0.9985125004492174\n",
      "Vlidation f1 score for 4 days and level 1 is 0.4123591239306643\n",
      "******************************\n",
      "Train f1 score for 4 days and level 2 is 0.9977653174027045\n",
      "Vlidation f1 score for 4 days and level 2 is 0.2467556231354926\n",
      "******************************\n",
      "Train f1 score for 4 days and level 3 is 0.9980191924345442\n",
      "Vlidation f1 score for 4 days and level 3 is 0.24275902317134937\n",
      "******************************\n",
      "Train f1 score for 4 days and level 5 is 0.9977785865549643\n",
      "Vlidation f1 score for 4 days and level 5 is 0.26640527053612567\n",
      "******************************\n",
      "Train f1 score for 4 days and level 10 is 0.9963989762804183\n",
      "Vlidation f1 score for 4 days and level 10 is 0.34320085865466604\n",
      "******************************\n",
      "Train f1 score for 5 days and level 1 is 0.9985885625327341\n",
      "Vlidation f1 score for 5 days and level 1 is 0.3616024819778439\n",
      "******************************\n",
      "Train f1 score for 5 days and level 2 is 0.9985814387331565\n",
      "Vlidation f1 score for 5 days and level 2 is 0.2110929673316296\n",
      "******************************\n",
      "Train f1 score for 5 days and level 3 is 0.9984646319631766\n",
      "Vlidation f1 score for 5 days and level 3 is 0.20208280662250436\n",
      "******************************\n",
      "Train f1 score for 5 days and level 5 is 0.9982645522592045\n",
      "Vlidation f1 score for 5 days and level 5 is 0.24418913644302273\n",
      "******************************\n",
      "Train f1 score for 5 days and level 10 is 0.9972840627374558\n",
      "Vlidation f1 score for 5 days and level 10 is 0.28755274180123697\n",
      "******************************\n",
      "Train f1 score for 6 days and level 1 is 0.998383608450013\n",
      "Vlidation f1 score for 6 days and level 1 is 0.39094707503517284\n",
      "******************************\n",
      "Train f1 score for 6 days and level 2 is 0.9971178813146824\n",
      "Vlidation f1 score for 6 days and level 2 is 0.2613521917205999\n",
      "******************************\n",
      "Train f1 score for 6 days and level 3 is 0.9975267149088748\n",
      "Vlidation f1 score for 6 days and level 3 is 0.2714442658925907\n",
      "******************************\n",
      "Train f1 score for 6 days and level 5 is 0.9973583405842682\n",
      "Vlidation f1 score for 6 days and level 5 is 0.3122564625982551\n",
      "******************************\n",
      "Train f1 score for 6 days and level 10 is 0.9955826253490686\n",
      "Vlidation f1 score for 6 days and level 10 is 0.36198171901021486\n",
      "******************************\n",
      "Train f1 score for 7 days and level 1 is 0.998098853476541\n",
      "Vlidation f1 score for 7 days and level 1 is 0.659085236808361\n",
      "******************************\n",
      "Train f1 score for 7 days and level 2 is 0.9953365878463575\n",
      "Vlidation f1 score for 7 days and level 2 is 0.29986041661131174\n",
      "******************************\n",
      "Train f1 score for 7 days and level 3 is 0.9969540894427782\n",
      "Vlidation f1 score for 7 days and level 3 is 0.3418945810133481\n",
      "******************************\n",
      "Train f1 score for 7 days and level 5 is 0.9970782380027665\n",
      "Vlidation f1 score for 7 days and level 5 is 0.40631266484241757\n",
      "******************************\n",
      "Train f1 score for 7 days and level 10 is 0.9952289856554613\n",
      "Vlidation f1 score for 7 days and level 10 is 0.47215295576475835\n",
      "******************************\n",
      "Train f1 score for 8 days and level 1 is 0.997562381313836\n",
      "Vlidation f1 score for 8 days and level 1 is 0.42829139796945354\n",
      "******************************\n",
      "Train f1 score for 8 days and level 2 is 0.9933018256149936\n",
      "Vlidation f1 score for 8 days and level 2 is 0.28238563207619916\n",
      "******************************\n",
      "Train f1 score for 8 days and level 3 is 0.9960012769926014\n",
      "Vlidation f1 score for 8 days and level 3 is 0.26049371897455487\n",
      "******************************\n",
      "Train f1 score for 8 days and level 5 is 0.996303920256739\n",
      "Vlidation f1 score for 8 days and level 5 is 0.287242106629707\n",
      "******************************\n",
      "Train f1 score for 8 days and level 10 is 0.9951162416051686\n",
      "Vlidation f1 score for 8 days and level 10 is 0.3152874073652507\n",
      "******************************\n",
      "Train f1 score for 9 days and level 1 is 0.9977464569185877\n",
      "Vlidation f1 score for 9 days and level 1 is 0.41968956554268894\n",
      "******************************\n",
      "Train f1 score for 9 days and level 2 is 0.9938504447640041\n",
      "Vlidation f1 score for 9 days and level 2 is 0.2304400245531133\n",
      "******************************\n",
      "Train f1 score for 9 days and level 3 is 0.9963668750118234\n",
      "Vlidation f1 score for 9 days and level 3 is 0.22483295024160013\n",
      "******************************\n",
      "Train f1 score for 9 days and level 5 is 0.9967161724920417\n",
      "Vlidation f1 score for 9 days and level 5 is 0.2522984987090295\n",
      "******************************\n",
      "Train f1 score for 9 days and level 10 is 0.9958008888567286\n",
      "Vlidation f1 score for 9 days and level 10 is 0.3143815324820612\n",
      "******************************\n"
     ]
    }
   ],
   "source": [
    "number_labels = 5\n",
    "per_day_performance_train = {}\n",
    "per_day_performance_val= {}\n",
    "importances_d = {}\n",
    "levels = [1, 2, 3, 5, 10]\n",
    "for day, file in enumerate(zip(train_files,val_files)):\n",
    "        train_file, val_file = file\n",
    "        train_results = []\n",
    "        val_results = []\n",
    "        importances = []\n",
    "        for k in range(number_labels):\n",
    "            train_data = np.loadtxt(os.path.join(ABS_PATH_TRAIN, train_file)).T\n",
    "            train_X, train_y = train_data[:, :144], train_data[:, 144+k]\n",
    "\n",
    "            val_data = np.loadtxt(os.path.join(ABS_PATH_VAL, val_file)).T\n",
    "            val_X, val_y = val_data[:, :144], val_data[:, 144+k]\n",
    "            \n",
    "            classifier.fit(train_X, train_y)\n",
    "            \n",
    "            prediction = classifier.predict(val_X)\n",
    "            \n",
    "            f1_score_val = f1_score(y_pred=prediction, y_true=val_y, average='macro')\n",
    "            f1_score_train = f1_score(y_pred=classifier.predict(train_X), y_true=train_y, average='macro')\n",
    "            \n",
    "            train_results.append(f1_score_train)\n",
    "            val_results.append(f1_score_val)\n",
    "            importances.append(classifier.feature_importances_)\n",
    "            \n",
    "            print(f'Train f1 score for {day+1} days and level {levels[k]} is {f1_score_train}')\n",
    "            print(f'Vlidation f1 score for {day+1} days and level {levels[k]} is {f1_score_val}')\n",
    "            print('*'*30)\n",
    "            \n",
    "        per_day_performance_train[day] = train_results\n",
    "        per_day_performance_val[day] = val_results\n",
    "        importances_d[day] = importances\n",
    "        \n",
    "            "
   ]
  },
  {
   "cell_type": "markdown",
   "id": "db5a34a8",
   "metadata": {},
   "source": [
    "# Creation of table results + analysis"
   ]
  },
  {
   "cell_type": "code",
   "execution_count": 15,
   "id": "88fd30db",
   "metadata": {},
   "outputs": [],
   "source": [
    "import matplotlib.pyplot as plt\n",
    "import seaborn as sns\n",
    "sns.set()"
   ]
  },
  {
   "cell_type": "code",
   "execution_count": 113,
   "id": "f02cd30b",
   "metadata": {},
   "outputs": [],
   "source": [
    "def performance_to_array(per_day_performance_val):\n",
    "    levels_performance = []\n",
    "    for level in range(number_labels):\n",
    "        dist = []\n",
    "        for day in per_day_performance_val.keys():\n",
    "            dist.append(per_day_performance_val[day][level])\n",
    "        levels_performance.append(dist)\n",
    "    levels_performance = np.array(levels_performance)\n",
    "    return levels_performance"
   ]
  },
  {
   "cell_type": "code",
   "execution_count": 54,
   "id": "49478d23",
   "metadata": {},
   "outputs": [
    {
     "data": {
      "text/html": [
       "<div>\n",
       "<style scoped>\n",
       "    .dataframe tbody tr th:only-of-type {\n",
       "        vertical-align: middle;\n",
       "    }\n",
       "\n",
       "    .dataframe tbody tr th {\n",
       "        vertical-align: top;\n",
       "    }\n",
       "\n",
       "    .dataframe thead th {\n",
       "        text-align: right;\n",
       "    }\n",
       "</style>\n",
       "<table border=\"1\" class=\"dataframe\">\n",
       "  <thead>\n",
       "    <tr style=\"text-align: right;\">\n",
       "      <th></th>\n",
       "      <th>F1 score</th>\n",
       "    </tr>\n",
       "  </thead>\n",
       "  <tbody>\n",
       "    <tr>\n",
       "      <th>1_level</th>\n",
       "      <td>0.448667</td>\n",
       "    </tr>\n",
       "    <tr>\n",
       "      <th>2_level</th>\n",
       "      <td>0.290579</td>\n",
       "    </tr>\n",
       "    <tr>\n",
       "      <th>3_level</th>\n",
       "      <td>0.287732</td>\n",
       "    </tr>\n",
       "    <tr>\n",
       "      <th>5_level</th>\n",
       "      <td>0.308021</td>\n",
       "    </tr>\n",
       "    <tr>\n",
       "      <th>10_level</th>\n",
       "      <td>0.356274</td>\n",
       "    </tr>\n",
       "  </tbody>\n",
       "</table>\n",
       "</div>"
      ],
      "text/plain": [
       "          F1 score\n",
       "1_level   0.448667\n",
       "2_level   0.290579\n",
       "3_level   0.287732\n",
       "5_level   0.308021\n",
       "10_level  0.356274"
      ]
     },
     "execution_count": 54,
     "metadata": {},
     "output_type": "execute_result"
    }
   ],
   "source": [
    "pd.DataFrame(performance_to_array(per_day_performance_val).mean(axis=1)).rename(columns={0:'F1 score'})\\\n",
    ".T.rename(columns=dict(zip(range(5), [f'{i}_level' for i in levels]))).T"
   ]
  },
  {
   "cell_type": "code",
   "execution_count": 114,
   "id": "841623b8",
   "metadata": {},
   "outputs": [
    {
     "data": {
      "text/html": [
       "<div>\n",
       "<style scoped>\n",
       "    .dataframe tbody tr th:only-of-type {\n",
       "        vertical-align: middle;\n",
       "    }\n",
       "\n",
       "    .dataframe tbody tr th {\n",
       "        vertical-align: top;\n",
       "    }\n",
       "\n",
       "    .dataframe thead th {\n",
       "        text-align: right;\n",
       "    }\n",
       "</style>\n",
       "<table border=\"1\" class=\"dataframe\">\n",
       "  <thead>\n",
       "    <tr style=\"text-align: right;\">\n",
       "      <th></th>\n",
       "      <th>F1 score</th>\n",
       "    </tr>\n",
       "  </thead>\n",
       "  <tbody>\n",
       "    <tr>\n",
       "      <th>1_level</th>\n",
       "      <td>0.997853</td>\n",
       "    </tr>\n",
       "    <tr>\n",
       "      <th>2_level</th>\n",
       "      <td>0.994990</td>\n",
       "    </tr>\n",
       "    <tr>\n",
       "      <th>3_level</th>\n",
       "      <td>0.996621</td>\n",
       "    </tr>\n",
       "    <tr>\n",
       "      <th>5_level</th>\n",
       "      <td>0.996769</td>\n",
       "    </tr>\n",
       "    <tr>\n",
       "      <th>10_level</th>\n",
       "      <td>0.995541</td>\n",
       "    </tr>\n",
       "  </tbody>\n",
       "</table>\n",
       "</div>"
      ],
      "text/plain": [
       "          F1 score\n",
       "1_level   0.997853\n",
       "2_level   0.994990\n",
       "3_level   0.996621\n",
       "5_level   0.996769\n",
       "10_level  0.995541"
      ]
     },
     "execution_count": 114,
     "metadata": {},
     "output_type": "execute_result"
    }
   ],
   "source": [
    "pd.DataFrame(performance_to_array(per_day_performance_train).mean(axis=1)).rename(columns={0:'F1 score'})\\\n",
    ".T.rename(columns=dict(zip(range(5), [f'{i}_level' for i in levels]))).T"
   ]
  },
  {
   "cell_type": "code",
   "execution_count": 115,
   "id": "3aad20cc",
   "metadata": {},
   "outputs": [],
   "source": [
    "array_performance_val = performance_to_array(per_day_performance_val)"
   ]
  },
  {
   "cell_type": "code",
   "execution_count": 116,
   "id": "a10e0052",
   "metadata": {},
   "outputs": [
    {
     "data": {
      "image/png": "[encoded data removed]",
      "text/plain": [
       "<Figure size 1080x864 with 9 Axes>"
      ]
     },
     "metadata": {
      "needs_background": "light"
     },
     "output_type": "display_data"
    }
   ],
   "source": [
    "fig, axes = plt.subplots(3, 3, figsize=(15,12))\n",
    "\n",
    "c = 1\n",
    "for i in range(len(axes)):\n",
    "    for j in range(len(axes[i])):\n",
    "        axes[i][j].bar(range(len(levels)),array_performance_val[:,i+j])\n",
    "        axes[i][j].set_title(f'{c} days')\n",
    "        axes[i][j].set_xticks(range(len(levels)), levels)\n",
    "        c+=1\n",
    "        \n",
    "fig.supylabel('F1 score', x=0.08, fontsize=16)\n",
    "fig.suptitle('Comparison of F1 score on validation for each day and level', fontsize=16,\n",
    "            y=0.94);"
   ]
  },
  {
   "cell_type": "code",
   "execution_count": 124,
   "id": "65412f38",
   "metadata": {},
   "outputs": [
    {
     "name": "stdout",
     "output_type": "stream",
     "text": [
      "Top features for day 0 and level 0 : [127 128   1   3   5   7   9  11  17  82]\n",
      "Top features for day 0 and level 1 : [ 88  86 127 128  92  90   1  94   3  83]\n",
      "Top features for day 0 and level 2 : [127  88 128  86   1   3   7  83   5  82]\n",
      "Top features for day 0 and level 3 : [128 127   1   3   5   7  82  83   9  19]\n",
      "Top features for day 0 and level 4 : [  1 127  82  83 128   3   5   7   9  23]\n",
      "******************************\n",
      "Top features for day 1 and level 0 : [127 128   1   3   7   5  11   9  17  82]\n",
      "Top features for day 1 and level 1 : [ 88  86 127 128  92   1   3  90  94   7]\n",
      "Top features for day 1 and level 2 : [127 128  88  86   1   3   7   5  83  82]\n",
      "Top features for day 1 and level 3 : [127 128   1   3   7   5  82  83  19   9]\n",
      "Top features for day 1 and level 4 : [128 127   1   3  82  83   5   7  19  11]\n",
      "******************************\n",
      "Top features for day 2 and level 0 : [127 128   1   3  17  82  11   5   9 140]\n",
      "Top features for day 2 and level 1 : [ 86  88 127 128   1  90   3  92  82  94]\n",
      "Top features for day 2 and level 2 : [ 86 127 128  88   1   3  82  17  13  83]\n",
      "Top features for day 2 and level 3 : [127 128  82   1  17  13   3  11  83   5]\n",
      "Top features for day 2 and level 4 : [ 82  13  83 128  15 127  17   5   1  11]\n",
      "******************************\n",
      "Top features for day 3 and level 0 : [127 128   1   3   5   9  11 140  17  82]\n",
      "Top features for day 3 and level 1 : [ 88  86 127 128   1  92   3  90  82 140]\n",
      "Top features for day 3 and level 2 : [128 127  88   1  86   3  82   5  17   9]\n",
      "Top features for day 3 and level 3 : [128 127   1   3  82   5   9  17  83  15]\n",
      "Top features for day 3 and level 4 : [ 82   1 127 128  83   5  13  15   3   9]\n",
      "******************************\n",
      "Top features for day 4 and level 0 : [127 128   1   3   5  17  82  13 140  83]\n",
      "Top features for day 4 and level 1 : [ 86  88 128 127  90  82   1   3  83  13]\n",
      "Top features for day 4 and level 2 : [127 128  86  82  88   1   3  83  13   5]\n",
      "Top features for day 4 and level 3 : [128 127  82   1  83  13   5  17  15  11]\n",
      "Top features for day 4 and level 4 : [ 82 128  83 127  13  15   1  17   5  11]\n",
      "******************************\n",
      "Top features for day 5 and level 0 : [127   1 128   3   9  11  82   5   7  17]\n",
      "Top features for day 5 and level 1 : [ 86  88 127 128  90   1   3  92  82  83]\n",
      "Top features for day 5 and level 2 : [ 86 127 128   1  88   3  82   7   9  11]\n",
      "Top features for day 5 and level 3 : [128 127   1   3  82   7   9   5  11  83]\n",
      "Top features for day 5 and level 4 : [ 82   1 128 127  83   5   3   9  11  13]\n",
      "******************************\n",
      "Top features for day 6 and level 0 : [127   1 128   3  82   9  11   5  17   7]\n",
      "Top features for day 6 and level 1 : [ 86  88 127 128   1  90  92   3  94  96]\n",
      "Top features for day 6 and level 2 : [ 86 127 128   1  88   3  82   7   9  19]\n",
      "Top features for day 6 and level 3 : [127 128   1   3  82   7   9   5  11  83]\n",
      "Top features for day 6 and level 4 : [  1  82 128 127   9  83   5   3  13  15]\n",
      "******************************\n",
      "Top features for day 7 and level 0 : [127 128   1   3   7   9  11 139 140   5]\n",
      "Top features for day 7 and level 1 : [ 88  86 127 128  92   1  94   3  90  96]\n",
      "Top features for day 7 and level 2 : [127 128  88   1  86   3  82   7 140 139]\n",
      "Top features for day 7 and level 3 : [127 128   1   3  82   7   9   5  11  83]\n",
      "Top features for day 7 and level 4 : [ 82 127 128   1  83   3   5   9 140  11]\n",
      "******************************\n",
      "Top features for day 8 and level 0 : [127 128   1   3   7   9  82  11   5  17]\n",
      "Top features for day 8 and level 1 : [ 88  86  90 127 128   1  92  94   3  82]\n",
      "Top features for day 8 and level 2 : [ 88 127 128   1  86   3  82   7 140  83]\n",
      "Top features for day 8 and level 3 : [128 127   1   3  82   7   9   5  83  11]\n",
      "Top features for day 8 and level 4 : [ 82 128 127   1  83   5   3   9  11  13]\n",
      "******************************\n"
     ]
    }
   ],
   "source": [
    "for day in importances_d.keys():\n",
    "    for level in range(len(levels)):\n",
    "        scores = np.sort(importances_d[day][level])[::-1][:10]\n",
    "        features = np.argsort(-importances_d[day][level])[:10]\n",
    "        print(f'Top features for day {day} and level {level} : {features}')\n",
    "    print('*'*30)"
   ]
  },
  {
   "cell_type": "markdown",
   "id": "b959f558",
   "metadata": {},
   "source": [
    "#### as it can be seen, the results of f1 scores for validation is pretty similar to the ones in the paper. Features are changing on the course of days and levels."
   ]
  },
  {
   "cell_type": "code",
   "execution_count": null,
   "id": "1e3598f2",
   "metadata": {},
   "outputs": [],
   "source": []
  }
 ],
 "metadata": {
  "kernelspec": {
   "display_name": "Python 3 (ipykernel)",
   "language": "python",
   "name": "python3"
  },
  "language_info": {
   "codemirror_mode": {
    "name": "ipython",
    "version": 3
   },
   "file_extension": ".py",
   "mimetype": "text/x-python",
   "name": "python",
   "nbconvert_exporter": "python",
   "pygments_lexer": "ipython3",
   "version": "3.9.13"
  }
 },
 "nbformat": 4,
 "nbformat_minor": 5
}
