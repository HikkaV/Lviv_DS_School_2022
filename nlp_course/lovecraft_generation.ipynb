{
  "nbformat": 4,
  "nbformat_minor": 0,
  "metadata": {
    "colab": {
      "name": "lovecraft_generation.ipynb",
      "provenance": [],
      "collapsed_sections": []
    },
    "kernelspec": {
      "name": "python3",
      "display_name": "Python 3"
    },
    "language_info": {
      "name": "python"
    },
    "gpuClass": "standard",
    "accelerator": "GPU",
    "widgets": {
      "application/vnd.jupyter.widget-state+json": {
        "8a97f807b44f4b0abdd207c661015b04": {
          "model_module": "@jupyter-widgets/controls",
          "model_name": "HBoxModel",
          "model_module_version": "1.5.0",
          "state": {
            "_dom_classes": [],
            "_model_module": "@jupyter-widgets/controls",
            "_model_module_version": "1.5.0",
            "_model_name": "HBoxModel",
            "_view_count": null,
            "_view_module": "@jupyter-widgets/controls",
            "_view_module_version": "1.5.0",
            "_view_name": "HBoxView",
            "box_style": "",
            "children": [
              "IPY_MODEL_8b8d4b6075214f4987434294d0ea0388",
              "IPY_MODEL_d6e135484f9b4cdf8d052904744cd0a3",
              "IPY_MODEL_f12fdc5fc38c47beab060605d518bb5a"
            ],
            "layout": "IPY_MODEL_a1fda371962f405f8e7ae9a238929a9a"
          }
        },
        "8b8d4b6075214f4987434294d0ea0388": {
          "model_module": "@jupyter-widgets/controls",
          "model_name": "HTMLModel",
          "model_module_version": "1.5.0",
          "state": {
            "_dom_classes": [],
            "_model_module": "@jupyter-widgets/controls",
            "_model_module_version": "1.5.0",
            "_model_name": "HTMLModel",
            "_view_count": null,
            "_view_module": "@jupyter-widgets/controls",
            "_view_module_version": "1.5.0",
            "_view_name": "HTMLView",
            "description": "",
            "description_tooltip": null,
            "layout": "IPY_MODEL_f544f0d7b5ec46888ab53d5658e7c785",
            "placeholder": "​",
            "style": "IPY_MODEL_344d6e352d994263a1f51256492df6da",
            "value": "Downloading vocab.json: 100%"
          }
        },
        "d6e135484f9b4cdf8d052904744cd0a3": {
          "model_module": "@jupyter-widgets/controls",
          "model_name": "FloatProgressModel",
          "model_module_version": "1.5.0",
          "state": {
            "_dom_classes": [],
            "_model_module": "@jupyter-widgets/controls",
            "_model_module_version": "1.5.0",
            "_model_name": "FloatProgressModel",
            "_view_count": null,
            "_view_module": "@jupyter-widgets/controls",
            "_view_module_version": "1.5.0",
            "_view_name": "ProgressView",
            "bar_style": "success",
            "description": "",
            "description_tooltip": null,
            "layout": "IPY_MODEL_7975e148a31042908add17d8f00d5407",
            "max": 1042301,
            "min": 0,
            "orientation": "horizontal",
            "style": "IPY_MODEL_cc972e994ca0489d97cc4d921287b0f2",
            "value": 1042301
          }
        },
        "f12fdc5fc38c47beab060605d518bb5a": {
          "model_module": "@jupyter-widgets/controls",
          "model_name": "HTMLModel",
          "model_module_version": "1.5.0",
          "state": {
            "_dom_classes": [],
            "_model_module": "@jupyter-widgets/controls",
            "_model_module_version": "1.5.0",
            "_model_name": "HTMLModel",
            "_view_count": null,
            "_view_module": "@jupyter-widgets/controls",
            "_view_module_version": "1.5.0",
            "_view_name": "HTMLView",
            "description": "",
            "description_tooltip": null,
            "layout": "IPY_MODEL_2b778f2d99564c3abc167b63be212f61",
            "placeholder": "​",
            "style": "IPY_MODEL_966b8af84f8c4dbc85245fa315c5d5e7",
            "value": " 0.99M/0.99M [00:01&lt;00:00, 966kB/s]"
          }
        },
        "a1fda371962f405f8e7ae9a238929a9a": {
          "model_module": "@jupyter-widgets/base",
          "model_name": "LayoutModel",
          "model_module_version": "1.2.0",
          "state": {
            "_model_module": "@jupyter-widgets/base",
            "_model_module_version": "1.2.0",
            "_model_name": "LayoutModel",
            "_view_count": null,
            "_view_module": "@jupyter-widgets/base",
            "_view_module_version": "1.2.0",
            "_view_name": "LayoutView",
            "align_content": null,
            "align_items": null,
            "align_self": null,
            "border": null,
            "bottom": null,
            "display": null,
            "flex": null,
            "flex_flow": null,
            "grid_area": null,
            "grid_auto_columns": null,
            "grid_auto_flow": null,
            "grid_auto_rows": null,
            "grid_column": null,
            "grid_gap": null,
            "grid_row": null,
            "grid_template_areas": null,
            "grid_template_columns": null,
            "grid_template_rows": null,
            "height": null,
            "justify_content": null,
            "justify_items": null,
            "left": null,
            "margin": null,
            "max_height": null,
            "max_width": null,
            "min_height": null,
            "min_width": null,
            "object_fit": null,
            "object_position": null,
            "order": null,
            "overflow": null,
            "overflow_x": null,
            "overflow_y": null,
            "padding": null,
            "right": null,
            "top": null,
            "visibility": null,
            "width": null
          }
        },
        "f544f0d7b5ec46888ab53d5658e7c785": {
          "model_module": "@jupyter-widgets/base",
          "model_name": "LayoutModel",
          "model_module_version": "1.2.0",
          "state": {
            "_model_module": "@jupyter-widgets/base",
            "_model_module_version": "1.2.0",
            "_model_name": "LayoutModel",
            "_view_count": null,
            "_view_module": "@jupyter-widgets/base",
            "_view_module_version": "1.2.0",
            "_view_name": "LayoutView",
            "align_content": null,
            "align_items": null,
            "align_self": null,
            "border": null,
            "bottom": null,
            "display": null,
            "flex": null,
            "flex_flow": null,
            "grid_area": null,
            "grid_auto_columns": null,
            "grid_auto_flow": null,
            "grid_auto_rows": null,
            "grid_column": null,
            "grid_gap": null,
            "grid_row": null,
            "grid_template_areas": null,
            "grid_template_columns": null,
            "grid_template_rows": null,
            "height": null,
            "justify_content": null,
            "justify_items": null,
            "left": null,
            "margin": null,
            "max_height": null,
            "max_width": null,
            "min_height": null,
            "min_width": null,
            "object_fit": null,
            "object_position": null,
            "order": null,
            "overflow": null,
            "overflow_x": null,
            "overflow_y": null,
            "padding": null,
            "right": null,
            "top": null,
            "visibility": null,
            "width": null
          }
        },
        "344d6e352d994263a1f51256492df6da": {
          "model_module": "@jupyter-widgets/controls",
          "model_name": "DescriptionStyleModel",
          "model_module_version": "1.5.0",
          "state": {
            "_model_module": "@jupyter-widgets/controls",
            "_model_module_version": "1.5.0",
            "_model_name": "DescriptionStyleModel",
            "_view_count": null,
            "_view_module": "@jupyter-widgets/base",
            "_view_module_version": "1.2.0",
            "_view_name": "StyleView",
            "description_width": ""
          }
        },
        "7975e148a31042908add17d8f00d5407": {
          "model_module": "@jupyter-widgets/base",
          "model_name": "LayoutModel",
          "model_module_version": "1.2.0",
          "state": {
            "_model_module": "@jupyter-widgets/base",
            "_model_module_version": "1.2.0",
            "_model_name": "LayoutModel",
            "_view_count": null,
            "_view_module": "@jupyter-widgets/base",
            "_view_module_version": "1.2.0",
            "_view_name": "LayoutView",
            "align_content": null,
            "align_items": null,
            "align_self": null,
            "border": null,
            "bottom": null,
            "display": null,
            "flex": null,
            "flex_flow": null,
            "grid_area": null,
            "grid_auto_columns": null,
            "grid_auto_flow": null,
            "grid_auto_rows": null,
            "grid_column": null,
            "grid_gap": null,
            "grid_row": null,
            "grid_template_areas": null,
            "grid_template_columns": null,
            "grid_template_rows": null,
            "height": null,
            "justify_content": null,
            "justify_items": null,
            "left": null,
            "margin": null,
            "max_height": null,
            "max_width": null,
            "min_height": null,
            "min_width": null,
            "object_fit": null,
            "object_position": null,
            "order": null,
            "overflow": null,
            "overflow_x": null,
            "overflow_y": null,
            "padding": null,
            "right": null,
            "top": null,
            "visibility": null,
            "width": null
          }
        },
        "cc972e994ca0489d97cc4d921287b0f2": {
          "model_module": "@jupyter-widgets/controls",
          "model_name": "ProgressStyleModel",
          "model_module_version": "1.5.0",
          "state": {
            "_model_module": "@jupyter-widgets/controls",
            "_model_module_version": "1.5.0",
            "_model_name": "ProgressStyleModel",
            "_view_count": null,
            "_view_module": "@jupyter-widgets/base",
            "_view_module_version": "1.2.0",
            "_view_name": "StyleView",
            "bar_color": null,
            "description_width": ""
          }
        },
        "2b778f2d99564c3abc167b63be212f61": {
          "model_module": "@jupyter-widgets/base",
          "model_name": "LayoutModel",
          "model_module_version": "1.2.0",
          "state": {
            "_model_module": "@jupyter-widgets/base",
            "_model_module_version": "1.2.0",
            "_model_name": "LayoutModel",
            "_view_count": null,
            "_view_module": "@jupyter-widgets/base",
            "_view_module_version": "1.2.0",
            "_view_name": "LayoutView",
            "align_content": null,
            "align_items": null,
            "align_self": null,
            "border": null,
            "bottom": null,
            "display": null,
            "flex": null,
            "flex_flow": null,
            "grid_area": null,
            "grid_auto_columns": null,
            "grid_auto_flow": null,
            "grid_auto_rows": null,
            "grid_column": null,
            "grid_gap": null,
            "grid_row": null,
            "grid_template_areas": null,
            "grid_template_columns": null,
            "grid_template_rows": null,
            "height": null,
            "justify_content": null,
            "justify_items": null,
            "left": null,
            "margin": null,
            "max_height": null,
            "max_width": null,
            "min_height": null,
            "min_width": null,
            "object_fit": null,
            "object_position": null,
            "order": null,
            "overflow": null,
            "overflow_x": null,
            "overflow_y": null,
            "padding": null,
            "right": null,
            "top": null,
            "visibility": null,
            "width": null
          }
        },
        "966b8af84f8c4dbc85245fa315c5d5e7": {
          "model_module": "@jupyter-widgets/controls",
          "model_name": "DescriptionStyleModel",
          "model_module_version": "1.5.0",
          "state": {
            "_model_module": "@jupyter-widgets/controls",
            "_model_module_version": "1.5.0",
            "_model_name": "DescriptionStyleModel",
            "_view_count": null,
            "_view_module": "@jupyter-widgets/base",
            "_view_module_version": "1.2.0",
            "_view_name": "StyleView",
            "description_width": ""
          }
        },
        "6034d6141649427f89285cbe0b062388": {
          "model_module": "@jupyter-widgets/controls",
          "model_name": "HBoxModel",
          "model_module_version": "1.5.0",
          "state": {
            "_dom_classes": [],
            "_model_module": "@jupyter-widgets/controls",
            "_model_module_version": "1.5.0",
            "_model_name": "HBoxModel",
            "_view_count": null,
            "_view_module": "@jupyter-widgets/controls",
            "_view_module_version": "1.5.0",
            "_view_name": "HBoxView",
            "box_style": "",
            "children": [
              "IPY_MODEL_e88c4bebf2b64aceb3795ee8c867c693",
              "IPY_MODEL_29a7c79857cb447fa699b5750f75257b",
              "IPY_MODEL_0039732ce3c349ff9eefc70848c9dcad"
            ],
            "layout": "IPY_MODEL_6b90512079884161ae84873ae6d704a1"
          }
        },
        "e88c4bebf2b64aceb3795ee8c867c693": {
          "model_module": "@jupyter-widgets/controls",
          "model_name": "HTMLModel",
          "model_module_version": "1.5.0",
          "state": {
            "_dom_classes": [],
            "_model_module": "@jupyter-widgets/controls",
            "_model_module_version": "1.5.0",
            "_model_name": "HTMLModel",
            "_view_count": null,
            "_view_module": "@jupyter-widgets/controls",
            "_view_module_version": "1.5.0",
            "_view_name": "HTMLView",
            "description": "",
            "description_tooltip": null,
            "layout": "IPY_MODEL_e1a8b7e9622e41d5ae93d84d7557c7bc",
            "placeholder": "​",
            "style": "IPY_MODEL_f040a984c4dc49a4a32477be73327d84",
            "value": "Downloading merges.txt: 100%"
          }
        },
        "29a7c79857cb447fa699b5750f75257b": {
          "model_module": "@jupyter-widgets/controls",
          "model_name": "FloatProgressModel",
          "model_module_version": "1.5.0",
          "state": {
            "_dom_classes": [],
            "_model_module": "@jupyter-widgets/controls",
            "_model_module_version": "1.5.0",
            "_model_name": "FloatProgressModel",
            "_view_count": null,
            "_view_module": "@jupyter-widgets/controls",
            "_view_module_version": "1.5.0",
            "_view_name": "ProgressView",
            "bar_style": "success",
            "description": "",
            "description_tooltip": null,
            "layout": "IPY_MODEL_678c23add4414b4196b6fb3b6be17abd",
            "max": 456318,
            "min": 0,
            "orientation": "horizontal",
            "style": "IPY_MODEL_22257ed4c4254d29af6d825b1d77b78c",
            "value": 456318
          }
        },
        "0039732ce3c349ff9eefc70848c9dcad": {
          "model_module": "@jupyter-widgets/controls",
          "model_name": "HTMLModel",
          "model_module_version": "1.5.0",
          "state": {
            "_dom_classes": [],
            "_model_module": "@jupyter-widgets/controls",
            "_model_module_version": "1.5.0",
            "_model_name": "HTMLModel",
            "_view_count": null,
            "_view_module": "@jupyter-widgets/controls",
            "_view_module_version": "1.5.0",
            "_view_name": "HTMLView",
            "description": "",
            "description_tooltip": null,
            "layout": "IPY_MODEL_68b856ba2b1d4943a4212d51869e604d",
            "placeholder": "​",
            "style": "IPY_MODEL_f2426b2b9ff843fb9910914cba5490eb",
            "value": " 446k/446k [00:01&lt;00:00, 573kB/s]"
          }
        },
        "6b90512079884161ae84873ae6d704a1": {
          "model_module": "@jupyter-widgets/base",
          "model_name": "LayoutModel",
          "model_module_version": "1.2.0",
          "state": {
            "_model_module": "@jupyter-widgets/base",
            "_model_module_version": "1.2.0",
            "_model_name": "LayoutModel",
            "_view_count": null,
            "_view_module": "@jupyter-widgets/base",
            "_view_module_version": "1.2.0",
            "_view_name": "LayoutView",
            "align_content": null,
            "align_items": null,
            "align_self": null,
            "border": null,
            "bottom": null,
            "display": null,
            "flex": null,
            "flex_flow": null,
            "grid_area": null,
            "grid_auto_columns": null,
            "grid_auto_flow": null,
            "grid_auto_rows": null,
            "grid_column": null,
            "grid_gap": null,
            "grid_row": null,
            "grid_template_areas": null,
            "grid_template_columns": null,
            "grid_template_rows": null,
            "height": null,
            "justify_content": null,
            "justify_items": null,
            "left": null,
            "margin": null,
            "max_height": null,
            "max_width": null,
            "min_height": null,
            "min_width": null,
            "object_fit": null,
            "object_position": null,
            "order": null,
            "overflow": null,
            "overflow_x": null,
            "overflow_y": null,
            "padding": null,
            "right": null,
            "top": null,
            "visibility": null,
            "width": null
          }
        },
        "e1a8b7e9622e41d5ae93d84d7557c7bc": {
          "model_module": "@jupyter-widgets/base",
          "model_name": "LayoutModel",
          "model_module_version": "1.2.0",
          "state": {
            "_model_module": "@jupyter-widgets/base",
            "_model_module_version": "1.2.0",
            "_model_name": "LayoutModel",
            "_view_count": null,
            "_view_module": "@jupyter-widgets/base",
            "_view_module_version": "1.2.0",
            "_view_name": "LayoutView",
            "align_content": null,
            "align_items": null,
            "align_self": null,
            "border": null,
            "bottom": null,
            "display": null,
            "flex": null,
            "flex_flow": null,
            "grid_area": null,
            "grid_auto_columns": null,
            "grid_auto_flow": null,
            "grid_auto_rows": null,
            "grid_column": null,
            "grid_gap": null,
            "grid_row": null,
            "grid_template_areas": null,
            "grid_template_columns": null,
            "grid_template_rows": null,
            "height": null,
            "justify_content": null,
            "justify_items": null,
            "left": null,
            "margin": null,
            "max_height": null,
            "max_width": null,
            "min_height": null,
            "min_width": null,
            "object_fit": null,
            "object_position": null,
            "order": null,
            "overflow": null,
            "overflow_x": null,
            "overflow_y": null,
            "padding": null,
            "right": null,
            "top": null,
            "visibility": null,
            "width": null
          }
        },
        "f040a984c4dc49a4a32477be73327d84": {
          "model_module": "@jupyter-widgets/controls",
          "model_name": "DescriptionStyleModel",
          "model_module_version": "1.5.0",
          "state": {
            "_model_module": "@jupyter-widgets/controls",
            "_model_module_version": "1.5.0",
            "_model_name": "DescriptionStyleModel",
            "_view_count": null,
            "_view_module": "@jupyter-widgets/base",
            "_view_module_version": "1.2.0",
            "_view_name": "StyleView",
            "description_width": ""
          }
        },
        "678c23add4414b4196b6fb3b6be17abd": {
          "model_module": "@jupyter-widgets/base",
          "model_name": "LayoutModel",
          "model_module_version": "1.2.0",
          "state": {
            "_model_module": "@jupyter-widgets/base",
            "_model_module_version": "1.2.0",
            "_model_name": "LayoutModel",
            "_view_count": null,
            "_view_module": "@jupyter-widgets/base",
            "_view_module_version": "1.2.0",
            "_view_name": "LayoutView",
            "align_content": null,
            "align_items": null,
            "align_self": null,
            "border": null,
            "bottom": null,
            "display": null,
            "flex": null,
            "flex_flow": null,
            "grid_area": null,
            "grid_auto_columns": null,
            "grid_auto_flow": null,
            "grid_auto_rows": null,
            "grid_column": null,
            "grid_gap": null,
            "grid_row": null,
            "grid_template_areas": null,
            "grid_template_columns": null,
            "grid_template_rows": null,
            "height": null,
            "justify_content": null,
            "justify_items": null,
            "left": null,
            "margin": null,
            "max_height": null,
            "max_width": null,
            "min_height": null,
            "min_width": null,
            "object_fit": null,
            "object_position": null,
            "order": null,
            "overflow": null,
            "overflow_x": null,
            "overflow_y": null,
            "padding": null,
            "right": null,
            "top": null,
            "visibility": null,
            "width": null
          }
        },
        "22257ed4c4254d29af6d825b1d77b78c": {
          "model_module": "@jupyter-widgets/controls",
          "model_name": "ProgressStyleModel",
          "model_module_version": "1.5.0",
          "state": {
            "_model_module": "@jupyter-widgets/controls",
            "_model_module_version": "1.5.0",
            "_model_name": "ProgressStyleModel",
            "_view_count": null,
            "_view_module": "@jupyter-widgets/base",
            "_view_module_version": "1.2.0",
            "_view_name": "StyleView",
            "bar_color": null,
            "description_width": ""
          }
        },
        "68b856ba2b1d4943a4212d51869e604d": {
          "model_module": "@jupyter-widgets/base",
          "model_name": "LayoutModel",
          "model_module_version": "1.2.0",
          "state": {
            "_model_module": "@jupyter-widgets/base",
            "_model_module_version": "1.2.0",
            "_model_name": "LayoutModel",
            "_view_count": null,
            "_view_module": "@jupyter-widgets/base",
            "_view_module_version": "1.2.0",
            "_view_name": "LayoutView",
            "align_content": null,
            "align_items": null,
            "align_self": null,
            "border": null,
            "bottom": null,
            "display": null,
            "flex": null,
            "flex_flow": null,
            "grid_area": null,
            "grid_auto_columns": null,
            "grid_auto_flow": null,
            "grid_auto_rows": null,
            "grid_column": null,
            "grid_gap": null,
            "grid_row": null,
            "grid_template_areas": null,
            "grid_template_columns": null,
            "grid_template_rows": null,
            "height": null,
            "justify_content": null,
            "justify_items": null,
            "left": null,
            "margin": null,
            "max_height": null,
            "max_width": null,
            "min_height": null,
            "min_width": null,
            "object_fit": null,
            "object_position": null,
            "order": null,
            "overflow": null,
            "overflow_x": null,
            "overflow_y": null,
            "padding": null,
            "right": null,
            "top": null,
            "visibility": null,
            "width": null
          }
        },
        "f2426b2b9ff843fb9910914cba5490eb": {
          "model_module": "@jupyter-widgets/controls",
          "model_name": "DescriptionStyleModel",
          "model_module_version": "1.5.0",
          "state": {
            "_model_module": "@jupyter-widgets/controls",
            "_model_module_version": "1.5.0",
            "_model_name": "DescriptionStyleModel",
            "_view_count": null,
            "_view_module": "@jupyter-widgets/base",
            "_view_module_version": "1.2.0",
            "_view_name": "StyleView",
            "description_width": ""
          }
        },
        "57596295df8c405090bc82166b93dd46": {
          "model_module": "@jupyter-widgets/controls",
          "model_name": "HBoxModel",
          "model_module_version": "1.5.0",
          "state": {
            "_dom_classes": [],
            "_model_module": "@jupyter-widgets/controls",
            "_model_module_version": "1.5.0",
            "_model_name": "HBoxModel",
            "_view_count": null,
            "_view_module": "@jupyter-widgets/controls",
            "_view_module_version": "1.5.0",
            "_view_name": "HBoxView",
            "box_style": "",
            "children": [
              "IPY_MODEL_b74d79334bea4444ac2406b8d3547bc8",
              "IPY_MODEL_f698d0651e20423885feb82c43e55155",
              "IPY_MODEL_26d003eaf2ab4970bc1bd1b0deaa156e"
            ],
            "layout": "IPY_MODEL_a09f017a08fb4074bad71be1fb895023"
          }
        },
        "b74d79334bea4444ac2406b8d3547bc8": {
          "model_module": "@jupyter-widgets/controls",
          "model_name": "HTMLModel",
          "model_module_version": "1.5.0",
          "state": {
            "_dom_classes": [],
            "_model_module": "@jupyter-widgets/controls",
            "_model_module_version": "1.5.0",
            "_model_name": "HTMLModel",
            "_view_count": null,
            "_view_module": "@jupyter-widgets/controls",
            "_view_module_version": "1.5.0",
            "_view_name": "HTMLView",
            "description": "",
            "description_tooltip": null,
            "layout": "IPY_MODEL_4d50e272af4148d7925003173fdc0467",
            "placeholder": "​",
            "style": "IPY_MODEL_a4a3fe9f20c04856b208527529d8bcf2",
            "value": "Downloading config.json: 100%"
          }
        },
        "f698d0651e20423885feb82c43e55155": {
          "model_module": "@jupyter-widgets/controls",
          "model_name": "FloatProgressModel",
          "model_module_version": "1.5.0",
          "state": {
            "_dom_classes": [],
            "_model_module": "@jupyter-widgets/controls",
            "_model_module_version": "1.5.0",
            "_model_name": "FloatProgressModel",
            "_view_count": null,
            "_view_module": "@jupyter-widgets/controls",
            "_view_module_version": "1.5.0",
            "_view_name": "ProgressView",
            "bar_style": "success",
            "description": "",
            "description_tooltip": null,
            "layout": "IPY_MODEL_ae831e9da7cb424bab41ff9cb671694a",
            "max": 718,
            "min": 0,
            "orientation": "horizontal",
            "style": "IPY_MODEL_5bf002e359c141a2a2db09ddcfe6bc17",
            "value": 718
          }
        },
        "26d003eaf2ab4970bc1bd1b0deaa156e": {
          "model_module": "@jupyter-widgets/controls",
          "model_name": "HTMLModel",
          "model_module_version": "1.5.0",
          "state": {
            "_dom_classes": [],
            "_model_module": "@jupyter-widgets/controls",
            "_model_module_version": "1.5.0",
            "_model_name": "HTMLModel",
            "_view_count": null,
            "_view_module": "@jupyter-widgets/controls",
            "_view_module_version": "1.5.0",
            "_view_name": "HTMLView",
            "description": "",
            "description_tooltip": null,
            "layout": "IPY_MODEL_5c4073a3b3df48989f77e32d5f3ffa29",
            "placeholder": "​",
            "style": "IPY_MODEL_a93ffb47f7e04bd685a7dbc11b6fb7e4",
            "value": " 718/718 [00:00&lt;00:00, 5.70kB/s]"
          }
        },
        "a09f017a08fb4074bad71be1fb895023": {
          "model_module": "@jupyter-widgets/base",
          "model_name": "LayoutModel",
          "model_module_version": "1.2.0",
          "state": {
            "_model_module": "@jupyter-widgets/base",
            "_model_module_version": "1.2.0",
            "_model_name": "LayoutModel",
            "_view_count": null,
            "_view_module": "@jupyter-widgets/base",
            "_view_module_version": "1.2.0",
            "_view_name": "LayoutView",
            "align_content": null,
            "align_items": null,
            "align_self": null,
            "border": null,
            "bottom": null,
            "display": null,
            "flex": null,
            "flex_flow": null,
            "grid_area": null,
            "grid_auto_columns": null,
            "grid_auto_flow": null,
            "grid_auto_rows": null,
            "grid_column": null,
            "grid_gap": null,
            "grid_row": null,
            "grid_template_areas": null,
            "grid_template_columns": null,
            "grid_template_rows": null,
            "height": null,
            "justify_content": null,
            "justify_items": null,
            "left": null,
            "margin": null,
            "max_height": null,
            "max_width": null,
            "min_height": null,
            "min_width": null,
            "object_fit": null,
            "object_position": null,
            "order": null,
            "overflow": null,
            "overflow_x": null,
            "overflow_y": null,
            "padding": null,
            "right": null,
            "top": null,
            "visibility": null,
            "width": null
          }
        },
        "4d50e272af4148d7925003173fdc0467": {
          "model_module": "@jupyter-widgets/base",
          "model_name": "LayoutModel",
          "model_module_version": "1.2.0",
          "state": {
            "_model_module": "@jupyter-widgets/base",
            "_model_module_version": "1.2.0",
            "_model_name": "LayoutModel",
            "_view_count": null,
            "_view_module": "@jupyter-widgets/base",
            "_view_module_version": "1.2.0",
            "_view_name": "LayoutView",
            "align_content": null,
            "align_items": null,
            "align_self": null,
            "border": null,
            "bottom": null,
            "display": null,
            "flex": null,
            "flex_flow": null,
            "grid_area": null,
            "grid_auto_columns": null,
            "grid_auto_flow": null,
            "grid_auto_rows": null,
            "grid_column": null,
            "grid_gap": null,
            "grid_row": null,
            "grid_template_areas": null,
            "grid_template_columns": null,
            "grid_template_rows": null,
            "height": null,
            "justify_content": null,
            "justify_items": null,
            "left": null,
            "margin": null,
            "max_height": null,
            "max_width": null,
            "min_height": null,
            "min_width": null,
            "object_fit": null,
            "object_position": null,
            "order": null,
            "overflow": null,
            "overflow_x": null,
            "overflow_y": null,
            "padding": null,
            "right": null,
            "top": null,
            "visibility": null,
            "width": null
          }
        },
        "a4a3fe9f20c04856b208527529d8bcf2": {
          "model_module": "@jupyter-widgets/controls",
          "model_name": "DescriptionStyleModel",
          "model_module_version": "1.5.0",
          "state": {
            "_model_module": "@jupyter-widgets/controls",
            "_model_module_version": "1.5.0",
            "_model_name": "DescriptionStyleModel",
            "_view_count": null,
            "_view_module": "@jupyter-widgets/base",
            "_view_module_version": "1.2.0",
            "_view_name": "StyleView",
            "description_width": ""
          }
        },
        "ae831e9da7cb424bab41ff9cb671694a": {
          "model_module": "@jupyter-widgets/base",
          "model_name": "LayoutModel",
          "model_module_version": "1.2.0",
          "state": {
            "_model_module": "@jupyter-widgets/base",
            "_model_module_version": "1.2.0",
            "_model_name": "LayoutModel",
            "_view_count": null,
            "_view_module": "@jupyter-widgets/base",
            "_view_module_version": "1.2.0",
            "_view_name": "LayoutView",
            "align_content": null,
            "align_items": null,
            "align_self": null,
            "border": null,
            "bottom": null,
            "display": null,
            "flex": null,
            "flex_flow": null,
            "grid_area": null,
            "grid_auto_columns": null,
            "grid_auto_flow": null,
            "grid_auto_rows": null,
            "grid_column": null,
            "grid_gap": null,
            "grid_row": null,
            "grid_template_areas": null,
            "grid_template_columns": null,
            "grid_template_rows": null,
            "height": null,
            "justify_content": null,
            "justify_items": null,
            "left": null,
            "margin": null,
            "max_height": null,
            "max_width": null,
            "min_height": null,
            "min_width": null,
            "object_fit": null,
            "object_position": null,
            "order": null,
            "overflow": null,
            "overflow_x": null,
            "overflow_y": null,
            "padding": null,
            "right": null,
            "top": null,
            "visibility": null,
            "width": null
          }
        },
        "5bf002e359c141a2a2db09ddcfe6bc17": {
          "model_module": "@jupyter-widgets/controls",
          "model_name": "ProgressStyleModel",
          "model_module_version": "1.5.0",
          "state": {
            "_model_module": "@jupyter-widgets/controls",
            "_model_module_version": "1.5.0",
            "_model_name": "ProgressStyleModel",
            "_view_count": null,
            "_view_module": "@jupyter-widgets/base",
            "_view_module_version": "1.2.0",
            "_view_name": "StyleView",
            "bar_color": null,
            "description_width": ""
          }
        },
        "5c4073a3b3df48989f77e32d5f3ffa29": {
          "model_module": "@jupyter-widgets/base",
          "model_name": "LayoutModel",
          "model_module_version": "1.2.0",
          "state": {
            "_model_module": "@jupyter-widgets/base",
            "_model_module_version": "1.2.0",
            "_model_name": "LayoutModel",
            "_view_count": null,
            "_view_module": "@jupyter-widgets/base",
            "_view_module_version": "1.2.0",
            "_view_name": "LayoutView",
            "align_content": null,
            "align_items": null,
            "align_self": null,
            "border": null,
            "bottom": null,
            "display": null,
            "flex": null,
            "flex_flow": null,
            "grid_area": null,
            "grid_auto_columns": null,
            "grid_auto_flow": null,
            "grid_auto_rows": null,
            "grid_column": null,
            "grid_gap": null,
            "grid_row": null,
            "grid_template_areas": null,
            "grid_template_columns": null,
            "grid_template_rows": null,
            "height": null,
            "justify_content": null,
            "justify_items": null,
            "left": null,
            "margin": null,
            "max_height": null,
            "max_width": null,
            "min_height": null,
            "min_width": null,
            "object_fit": null,
            "object_position": null,
            "order": null,
            "overflow": null,
            "overflow_x": null,
            "overflow_y": null,
            "padding": null,
            "right": null,
            "top": null,
            "visibility": null,
            "width": null
          }
        },
        "a93ffb47f7e04bd685a7dbc11b6fb7e4": {
          "model_module": "@jupyter-widgets/controls",
          "model_name": "DescriptionStyleModel",
          "model_module_version": "1.5.0",
          "state": {
            "_model_module": "@jupyter-widgets/controls",
            "_model_module_version": "1.5.0",
            "_model_name": "DescriptionStyleModel",
            "_view_count": null,
            "_view_module": "@jupyter-widgets/base",
            "_view_module_version": "1.2.0",
            "_view_name": "StyleView",
            "description_width": ""
          }
        },
        "c5206b7c460b425bbc5e310c01eff223": {
          "model_module": "@jupyter-widgets/controls",
          "model_name": "HBoxModel",
          "model_module_version": "1.5.0",
          "state": {
            "_dom_classes": [],
            "_model_module": "@jupyter-widgets/controls",
            "_model_module_version": "1.5.0",
            "_model_name": "HBoxModel",
            "_view_count": null,
            "_view_module": "@jupyter-widgets/controls",
            "_view_module_version": "1.5.0",
            "_view_name": "HBoxView",
            "box_style": "",
            "children": [
              "IPY_MODEL_2e8af49da2764d4a8d3408d026037607",
              "IPY_MODEL_86d8434b4dd5447d85c8980b95f1389b",
              "IPY_MODEL_37c0f697da5c4ebf840ab41c298f5d8c"
            ],
            "layout": "IPY_MODEL_4b3d417992164f9081653efdab2aa4ff"
          }
        },
        "2e8af49da2764d4a8d3408d026037607": {
          "model_module": "@jupyter-widgets/controls",
          "model_name": "HTMLModel",
          "model_module_version": "1.5.0",
          "state": {
            "_dom_classes": [],
            "_model_module": "@jupyter-widgets/controls",
            "_model_module_version": "1.5.0",
            "_model_name": "HTMLModel",
            "_view_count": null,
            "_view_module": "@jupyter-widgets/controls",
            "_view_module_version": "1.5.0",
            "_view_name": "HTMLView",
            "description": "",
            "description_tooltip": null,
            "layout": "IPY_MODEL_4c22dfa44f5244c2a823f4ee65f08f7e",
            "placeholder": "​",
            "style": "IPY_MODEL_d86cb5486689465598f203f5eaa759e2",
            "value": "Downloading pytorch_model.bin: 100%"
          }
        },
        "86d8434b4dd5447d85c8980b95f1389b": {
          "model_module": "@jupyter-widgets/controls",
          "model_name": "FloatProgressModel",
          "model_module_version": "1.5.0",
          "state": {
            "_dom_classes": [],
            "_model_module": "@jupyter-widgets/controls",
            "_model_module_version": "1.5.0",
            "_model_name": "FloatProgressModel",
            "_view_count": null,
            "_view_module": "@jupyter-widgets/controls",
            "_view_module_version": "1.5.0",
            "_view_name": "ProgressView",
            "bar_style": "success",
            "description": "",
            "description_tooltip": null,
            "layout": "IPY_MODEL_50c4e4f3bc1b4c7faacf2787b0e8a6c9",
            "max": 1520013706,
            "min": 0,
            "orientation": "horizontal",
            "style": "IPY_MODEL_016ae37dae664b628ce7bb40e1e16592",
            "value": 1520013706
          }
        },
        "37c0f697da5c4ebf840ab41c298f5d8c": {
          "model_module": "@jupyter-widgets/controls",
          "model_name": "HTMLModel",
          "model_module_version": "1.5.0",
          "state": {
            "_dom_classes": [],
            "_model_module": "@jupyter-widgets/controls",
            "_model_module_version": "1.5.0",
            "_model_name": "HTMLModel",
            "_view_count": null,
            "_view_module": "@jupyter-widgets/controls",
            "_view_module_version": "1.5.0",
            "_view_name": "HTMLView",
            "description": "",
            "description_tooltip": null,
            "layout": "IPY_MODEL_542fc274aa3f48198e8b7b097080a1de",
            "placeholder": "​",
            "style": "IPY_MODEL_0e39d74c98ca44849b5ea051c328b3eb",
            "value": " 1.42G/1.42G [00:33&lt;00:00, 39.9MB/s]"
          }
        },
        "4b3d417992164f9081653efdab2aa4ff": {
          "model_module": "@jupyter-widgets/base",
          "model_name": "LayoutModel",
          "model_module_version": "1.2.0",
          "state": {
            "_model_module": "@jupyter-widgets/base",
            "_model_module_version": "1.2.0",
            "_model_name": "LayoutModel",
            "_view_count": null,
            "_view_module": "@jupyter-widgets/base",
            "_view_module_version": "1.2.0",
            "_view_name": "LayoutView",
            "align_content": null,
            "align_items": null,
            "align_self": null,
            "border": null,
            "bottom": null,
            "display": null,
            "flex": null,
            "flex_flow": null,
            "grid_area": null,
            "grid_auto_columns": null,
            "grid_auto_flow": null,
            "grid_auto_rows": null,
            "grid_column": null,
            "grid_gap": null,
            "grid_row": null,
            "grid_template_areas": null,
            "grid_template_columns": null,
            "grid_template_rows": null,
            "height": null,
            "justify_content": null,
            "justify_items": null,
            "left": null,
            "margin": null,
            "max_height": null,
            "max_width": null,
            "min_height": null,
            "min_width": null,
            "object_fit": null,
            "object_position": null,
            "order": null,
            "overflow": null,
            "overflow_x": null,
            "overflow_y": null,
            "padding": null,
            "right": null,
            "top": null,
            "visibility": null,
            "width": null
          }
        },
        "4c22dfa44f5244c2a823f4ee65f08f7e": {
          "model_module": "@jupyter-widgets/base",
          "model_name": "LayoutModel",
          "model_module_version": "1.2.0",
          "state": {
            "_model_module": "@jupyter-widgets/base",
            "_model_module_version": "1.2.0",
            "_model_name": "LayoutModel",
            "_view_count": null,
            "_view_module": "@jupyter-widgets/base",
            "_view_module_version": "1.2.0",
            "_view_name": "LayoutView",
            "align_content": null,
            "align_items": null,
            "align_self": null,
            "border": null,
            "bottom": null,
            "display": null,
            "flex": null,
            "flex_flow": null,
            "grid_area": null,
            "grid_auto_columns": null,
            "grid_auto_flow": null,
            "grid_auto_rows": null,
            "grid_column": null,
            "grid_gap": null,
            "grid_row": null,
            "grid_template_areas": null,
            "grid_template_columns": null,
            "grid_template_rows": null,
            "height": null,
            "justify_content": null,
            "justify_items": null,
            "left": null,
            "margin": null,
            "max_height": null,
            "max_width": null,
            "min_height": null,
            "min_width": null,
            "object_fit": null,
            "object_position": null,
            "order": null,
            "overflow": null,
            "overflow_x": null,
            "overflow_y": null,
            "padding": null,
            "right": null,
            "top": null,
            "visibility": null,
            "width": null
          }
        },
        "d86cb5486689465598f203f5eaa759e2": {
          "model_module": "@jupyter-widgets/controls",
          "model_name": "DescriptionStyleModel",
          "model_module_version": "1.5.0",
          "state": {
            "_model_module": "@jupyter-widgets/controls",
            "_model_module_version": "1.5.0",
            "_model_name": "DescriptionStyleModel",
            "_view_count": null,
            "_view_module": "@jupyter-widgets/base",
            "_view_module_version": "1.2.0",
            "_view_name": "StyleView",
            "description_width": ""
          }
        },
        "50c4e4f3bc1b4c7faacf2787b0e8a6c9": {
          "model_module": "@jupyter-widgets/base",
          "model_name": "LayoutModel",
          "model_module_version": "1.2.0",
          "state": {
            "_model_module": "@jupyter-widgets/base",
            "_model_module_version": "1.2.0",
            "_model_name": "LayoutModel",
            "_view_count": null,
            "_view_module": "@jupyter-widgets/base",
            "_view_module_version": "1.2.0",
            "_view_name": "LayoutView",
            "align_content": null,
            "align_items": null,
            "align_self": null,
            "border": null,
            "bottom": null,
            "display": null,
            "flex": null,
            "flex_flow": null,
            "grid_area": null,
            "grid_auto_columns": null,
            "grid_auto_flow": null,
            "grid_auto_rows": null,
            "grid_column": null,
            "grid_gap": null,
            "grid_row": null,
            "grid_template_areas": null,
            "grid_template_columns": null,
            "grid_template_rows": null,
            "height": null,
            "justify_content": null,
            "justify_items": null,
            "left": null,
            "margin": null,
            "max_height": null,
            "max_width": null,
            "min_height": null,
            "min_width": null,
            "object_fit": null,
            "object_position": null,
            "order": null,
            "overflow": null,
            "overflow_x": null,
            "overflow_y": null,
            "padding": null,
            "right": null,
            "top": null,
            "visibility": null,
            "width": null
          }
        },
        "016ae37dae664b628ce7bb40e1e16592": {
          "model_module": "@jupyter-widgets/controls",
          "model_name": "ProgressStyleModel",
          "model_module_version": "1.5.0",
          "state": {
            "_model_module": "@jupyter-widgets/controls",
            "_model_module_version": "1.5.0",
            "_model_name": "ProgressStyleModel",
            "_view_count": null,
            "_view_module": "@jupyter-widgets/base",
            "_view_module_version": "1.2.0",
            "_view_name": "StyleView",
            "bar_color": null,
            "description_width": ""
          }
        },
        "542fc274aa3f48198e8b7b097080a1de": {
          "model_module": "@jupyter-widgets/base",
          "model_name": "LayoutModel",
          "model_module_version": "1.2.0",
          "state": {
            "_model_module": "@jupyter-widgets/base",
            "_model_module_version": "1.2.0",
            "_model_name": "LayoutModel",
            "_view_count": null,
            "_view_module": "@jupyter-widgets/base",
            "_view_module_version": "1.2.0",
            "_view_name": "LayoutView",
            "align_content": null,
            "align_items": null,
            "align_self": null,
            "border": null,
            "bottom": null,
            "display": null,
            "flex": null,
            "flex_flow": null,
            "grid_area": null,
            "grid_auto_columns": null,
            "grid_auto_flow": null,
            "grid_auto_rows": null,
            "grid_column": null,
            "grid_gap": null,
            "grid_row": null,
            "grid_template_areas": null,
            "grid_template_columns": null,
            "grid_template_rows": null,
            "height": null,
            "justify_content": null,
            "justify_items": null,
            "left": null,
            "margin": null,
            "max_height": null,
            "max_width": null,
            "min_height": null,
            "min_width": null,
            "object_fit": null,
            "object_position": null,
            "order": null,
            "overflow": null,
            "overflow_x": null,
            "overflow_y": null,
            "padding": null,
            "right": null,
            "top": null,
            "visibility": null,
            "width": null
          }
        },
        "0e39d74c98ca44849b5ea051c328b3eb": {
          "model_module": "@jupyter-widgets/controls",
          "model_name": "DescriptionStyleModel",
          "model_module_version": "1.5.0",
          "state": {
            "_model_module": "@jupyter-widgets/controls",
            "_model_module_version": "1.5.0",
            "_model_name": "DescriptionStyleModel",
            "_view_count": null,
            "_view_module": "@jupyter-widgets/base",
            "_view_module_version": "1.2.0",
            "_view_name": "StyleView",
            "description_width": ""
          }
        }
      }
    }
  },
  "cells": [
    {
      "cell_type": "markdown",
      "source": [
        "# Parse data and clean it"
      ],
      "metadata": {
        "id": "10KZF4qZlGdz"
      }
    },
    {
      "cell_type": "code",
      "source": [
        "from google.colab import drive\n",
        "drive.mount('/content/drive')"
      ],
      "metadata": {
        "colab": {
          "base_uri": "https://localhost:8080/"
        },
        "id": "AN1zs5nbiznq",
        "outputId": "8df49d19-e9d2-4047-d51d-b5f2c9f7865e"
      },
      "execution_count": null,
      "outputs": [
        {
          "output_type": "stream",
          "name": "stdout",
          "text": [
            "Mounted at /content/drive\n"
          ]
        }
      ]
    },
    {
      "cell_type": "code",
      "source": [
        "import requests\n",
        "from multiprocessing.pool import ThreadPool\n",
        "from bs4 import BeautifulSoup\n",
        "import os\n",
        "from tqdm import tqdm\n",
        "import numpy as np\n",
        "import nltk\n",
        "from nltk.tokenize import sent_tokenize\n",
        "nltk.download('punkt')"
      ],
      "metadata": {
        "id": "IeXJ4W6ik5YP",
        "colab": {
          "base_uri": "https://localhost:8080/"
        },
        "outputId": "098e00b6-ec93-4d32-b62b-f3af84b1dd76"
      },
      "execution_count": null,
      "outputs": [
        {
          "output_type": "stream",
          "name": "stderr",
          "text": [
            "[nltk_data] Downloading package punkt to /root/nltk_data...\n",
            "[nltk_data]   Unzipping tokenizers/punkt.zip.\n"
          ]
        },
        {
          "output_type": "execute_result",
          "data": {
            "text/plain": [
              "True"
            ]
          },
          "metadata": {},
          "execution_count": 1
        }
      ]
    },
    {
      "cell_type": "code",
      "source": [
        "class CleanHTML(object):\n",
        "\n",
        "    def __init__(self, html):\n",
        "        self.html_ = str(html)\n",
        "        self.soup_ = None\n",
        "\n",
        "    def get_soup(self):\n",
        "        return self.soup_\n",
        "\n",
        "    def process_html_tags(self, safe=None, unsafe=None):\n",
        "        SAFE_TAGS = []\n",
        "\n",
        "        safe = safe or SAFE_TAGS.copy()\n",
        "\n",
        "        extract = ['script', 'style']\n",
        "        save_attrs = ['highlight', 'iframe']\n",
        "\n",
        "        safe = set(safe) - set(unsafe or [])\n",
        "\n",
        "        soup = BeautifulSoup(self.html_, 'html5lib')\n",
        "\n",
        "        for tag in soup.findAll():\n",
        "            if tag.name not in save_attrs:\n",
        "                tag.attrs = []\n",
        "\n",
        "            if tag.name.lower() in extract:\n",
        "                tag.extract()\n",
        "\n",
        "            elif not tag.name.lower() in safe:\n",
        "                tag.replaceWithChildren()\n",
        "        self.soup_ = str(soup)"
      ],
      "metadata": {
        "id": "xt-KDtp6rggI"
      },
      "execution_count": null,
      "outputs": []
    },
    {
      "cell_type": "code",
      "source": [
        "import re \n",
        "\n",
        "def clean_html(text):\n",
        "    try:\n",
        "        if (text):\n",
        "            tmp_obj = CleanHTML(text)\n",
        "            tmp_obj.process_html_tags(None, None)\n",
        "            tmp_var = tmp_obj.get_soup()\n",
        "            # remove reference\n",
        "            tmp_obj = None\n",
        "            return tmp_var\n",
        "        else:\n",
        "            return None\n",
        "    except Exception as ex:\n",
        "        raise ex\n",
        "\n",
        "def remove_url_if_possible(text):\n",
        "    if (text):\n",
        "        result = re.sub(\n",
        "            r'(http|ftp|https):\\/\\/([\\w\\-_]+(?:(?:\\.[\\w\\-_]+)+))([\\w\\-\\.,@?^=%&:/~\\+#]*[\\w\\-\\@?^=%&/~\\+#])?',\n",
        "            ' ', text)\n",
        "        return result\n",
        "    else:\n",
        "        return None\n",
        "\n",
        "def remove_multy_spaces(text):\n",
        "    try:\n",
        "        text = re.sub(r'\\s+', ' ', text)\n",
        "        return text\n",
        "    except Exception as ex:\n",
        "        return None"
      ],
      "metadata": {
        "id": "2p7USU8hrrqu"
      },
      "execution_count": null,
      "outputs": []
    },
    {
      "cell_type": "code",
      "source": [
        "main_url = 'https://www.hplovecraft.com/writings/fiction/'\n",
        "texts_url = 'https://www.hplovecraft.com/writings/texts/fiction'"
      ],
      "metadata": {
        "id": "FhFih0PelCH9"
      },
      "execution_count": null,
      "outputs": []
    },
    {
      "cell_type": "code",
      "source": [
        "body = requests.post(main_url).text"
      ],
      "metadata": {
        "id": "nRam8twUlMFt"
      },
      "execution_count": null,
      "outputs": []
    },
    {
      "cell_type": "code",
      "source": [
        "soup = BeautifulSoup(body)"
      ],
      "metadata": {
        "id": "bY8EJqCJlNn7"
      },
      "execution_count": null,
      "outputs": []
    },
    {
      "cell_type": "code",
      "source": [
        "urls = []\n",
        "for h in soup.findAll('li'):\n",
        "    \n",
        "    a = h.find('a')\n",
        "    try:\n",
        "          \n",
        "        if 'href' in a.attrs:\n",
        "              \n",
        "            url = a.get('href')\n",
        "              \n",
        "            urls.append(url)\n",
        "    except:\n",
        "        pass\n",
        "urls = [os.path.join(texts_url,i) for i in urls]"
      ],
      "metadata": {
        "id": "Injt_RA-leJS"
      },
      "execution_count": null,
      "outputs": []
    },
    {
      "cell_type": "code",
      "source": [
        "len(urls)"
      ],
      "metadata": {
        "id": "cbZF0Pbkm2YD",
        "colab": {
          "base_uri": "https://localhost:8080/"
        },
        "outputId": "53ff60c0-d31a-4e53-99af-a9f091724531"
      },
      "execution_count": null,
      "outputs": [
        {
          "output_type": "execute_result",
          "data": {
            "text/plain": [
              "105"
            ]
          },
          "metadata": {},
          "execution_count": 8
        }
      ]
    },
    {
      "cell_type": "code",
      "source": [
        "def get_url_body(url):\n",
        "  body = requests.post(url).text\n",
        "  return body"
      ],
      "metadata": {
        "id": "_DqNXIoWl9hO"
      },
      "execution_count": null,
      "outputs": []
    },
    {
      "cell_type": "code",
      "source": [
        "with ThreadPool(6) as pool:\n",
        "  parsed = list(tqdm(pool.imap(get_url_body, urls), total=len(urls)))"
      ],
      "metadata": {
        "id": "vW9GSmIfmU8C",
        "colab": {
          "base_uri": "https://localhost:8080/"
        },
        "outputId": "c848f87f-9a4e-4850-ce06-8f136edd3abc"
      },
      "execution_count": null,
      "outputs": [
        {
          "output_type": "stream",
          "name": "stderr",
          "text": [
            "100%|██████████| 105/105 [00:22<00:00,  4.69it/s]\n"
          ]
        }
      ]
    },
    {
      "cell_type": "code",
      "source": [
        "def parse_text(parsed):\n",
        "  soup = BeautifulSoup(parsed)\n",
        "  text = None\n",
        "  for i in soup.findAll('tr'):\n",
        "     res = i.find('div', attrs={'align':\"justify\"})\n",
        "     if res:\n",
        "       text = remove_url_if_possible(clean_html(res)).strip()\n",
        "       break\n",
        "  return text\n"
      ],
      "metadata": {
        "id": "MTNE-cLOpGtr"
      },
      "execution_count": null,
      "outputs": []
    },
    {
      "cell_type": "code",
      "source": [
        "texts = [parse_text(i) for i in parsed]\n",
        "texts = [i for i in texts if not(i is None)]"
      ],
      "metadata": {
        "id": "BVe9QcH-pKz8"
      },
      "execution_count": null,
      "outputs": []
    },
    {
      "cell_type": "code",
      "source": [
        "texts = [remove_multy_spaces(i) for i in texts]"
      ],
      "metadata": {
        "id": "yoZl9cQ0qbK7"
      },
      "execution_count": null,
      "outputs": []
    },
    {
      "cell_type": "code",
      "source": [
        "sentences = [sent_tokenize(i) for i in texts]"
      ],
      "metadata": {
        "id": "-kPPCeI1u2bH"
      },
      "execution_count": null,
      "outputs": []
    },
    {
      "cell_type": "code",
      "source": [
        "min([len(i) for i in sentences]), max([len(i) for i in sentences])"
      ],
      "metadata": {
        "id": "JGfAavgowCky",
        "colab": {
          "base_uri": "https://localhost:8080/"
        },
        "outputId": "0200c2de-b486-4eaf-aaea-68d4af823518"
      },
      "execution_count": null,
      "outputs": [
        {
          "output_type": "execute_result",
          "data": {
            "text/plain": [
              "(8, 1751)"
            ]
          },
          "metadata": {},
          "execution_count": 15
        }
      ]
    },
    {
      "cell_type": "markdown",
      "source": [
        "# Fine-tuning GPT2"
      ],
      "metadata": {
        "id": "58tZpv0YtuLZ"
      }
    },
    {
      "cell_type": "code",
      "source": [
        "!pip install transformers"
      ],
      "metadata": {
        "id": "1t1zdVSTt0gm",
        "colab": {
          "base_uri": "https://localhost:8080/"
        },
        "outputId": "6d8e2317-586a-4ab7-b404-ffa8f2395240"
      },
      "execution_count": null,
      "outputs": [
        {
          "output_type": "stream",
          "name": "stdout",
          "text": [
            "Looking in indexes: https://pypi.org/simple, https://us-python.pkg.dev/colab-wheels/public/simple/\n",
            "Collecting transformers\n",
            "  Downloading transformers-4.21.0-py3-none-any.whl (4.7 MB)\n",
            "\u001b[K     |████████████████████████████████| 4.7 MB 31.4 MB/s \n",
            "\u001b[?25hRequirement already satisfied: packaging>=20.0 in /usr/local/lib/python3.7/dist-packages (from transformers) (21.3)\n",
            "Requirement already satisfied: importlib-metadata in /usr/local/lib/python3.7/dist-packages (from transformers) (4.12.0)\n",
            "Collecting pyyaml>=5.1\n",
            "  Downloading PyYAML-6.0-cp37-cp37m-manylinux_2_5_x86_64.manylinux1_x86_64.manylinux_2_12_x86_64.manylinux2010_x86_64.whl (596 kB)\n",
            "\u001b[K     |████████████████████████████████| 596 kB 68.4 MB/s \n",
            "\u001b[?25hCollecting tokenizers!=0.11.3,<0.13,>=0.11.1\n",
            "  Downloading tokenizers-0.12.1-cp37-cp37m-manylinux_2_12_x86_64.manylinux2010_x86_64.whl (6.6 MB)\n",
            "\u001b[K     |████████████████████████████████| 6.6 MB 61.5 MB/s \n",
            "\u001b[?25hRequirement already satisfied: tqdm>=4.27 in /usr/local/lib/python3.7/dist-packages (from transformers) (4.64.0)\n",
            "Requirement already satisfied: filelock in /usr/local/lib/python3.7/dist-packages (from transformers) (3.7.1)\n",
            "Requirement already satisfied: regex!=2019.12.17 in /usr/local/lib/python3.7/dist-packages (from transformers) (2022.6.2)\n",
            "Collecting huggingface-hub<1.0,>=0.1.0\n",
            "  Downloading huggingface_hub-0.8.1-py3-none-any.whl (101 kB)\n",
            "\u001b[K     |████████████████████████████████| 101 kB 11.8 MB/s \n",
            "\u001b[?25hRequirement already satisfied: requests in /usr/local/lib/python3.7/dist-packages (from transformers) (2.23.0)\n",
            "Requirement already satisfied: numpy>=1.17 in /usr/local/lib/python3.7/dist-packages (from transformers) (1.21.6)\n",
            "Requirement already satisfied: typing-extensions>=3.7.4.3 in /usr/local/lib/python3.7/dist-packages (from huggingface-hub<1.0,>=0.1.0->transformers) (4.1.1)\n",
            "Requirement already satisfied: pyparsing!=3.0.5,>=2.0.2 in /usr/local/lib/python3.7/dist-packages (from packaging>=20.0->transformers) (3.0.9)\n",
            "Requirement already satisfied: zipp>=0.5 in /usr/local/lib/python3.7/dist-packages (from importlib-metadata->transformers) (3.8.1)\n",
            "Requirement already satisfied: idna<3,>=2.5 in /usr/local/lib/python3.7/dist-packages (from requests->transformers) (2.10)\n",
            "Requirement already satisfied: urllib3!=1.25.0,!=1.25.1,<1.26,>=1.21.1 in /usr/local/lib/python3.7/dist-packages (from requests->transformers) (1.24.3)\n",
            "Requirement already satisfied: chardet<4,>=3.0.2 in /usr/local/lib/python3.7/dist-packages (from requests->transformers) (3.0.4)\n",
            "Requirement already satisfied: certifi>=2017.4.17 in /usr/local/lib/python3.7/dist-packages (from requests->transformers) (2022.6.15)\n",
            "Installing collected packages: pyyaml, tokenizers, huggingface-hub, transformers\n",
            "  Attempting uninstall: pyyaml\n",
            "    Found existing installation: PyYAML 3.13\n",
            "    Uninstalling PyYAML-3.13:\n",
            "      Successfully uninstalled PyYAML-3.13\n",
            "Successfully installed huggingface-hub-0.8.1 pyyaml-6.0 tokenizers-0.12.1 transformers-4.21.0\n"
          ]
        }
      ]
    },
    {
      "cell_type": "code",
      "source": [
        "import torch\n",
        "from torch.utils.data import Dataset, random_split\n",
        "from transformers import GPT2Tokenizer, TrainingArguments, Trainer, GPT2LMHeadModel"
      ],
      "metadata": {
        "id": "1uvh_rqvtboT"
      },
      "execution_count": null,
      "outputs": []
    },
    {
      "cell_type": "code",
      "source": [
        "!nvidia-smi"
      ],
      "metadata": {
        "id": "jStqY99YtyQM",
        "colab": {
          "base_uri": "https://localhost:8080/"
        },
        "outputId": "c0a4579b-548c-44a2-d883-48b72dde42a7"
      },
      "execution_count": null,
      "outputs": [
        {
          "output_type": "stream",
          "name": "stdout",
          "text": [
            "Sat Jul 30 09:58:11 2022       \n",
            "+-----------------------------------------------------------------------------+\n",
            "| NVIDIA-SMI 460.32.03    Driver Version: 460.32.03    CUDA Version: 11.2     |\n",
            "|-------------------------------+----------------------+----------------------+\n",
            "| GPU  Name        Persistence-M| Bus-Id        Disp.A | Volatile Uncorr. ECC |\n",
            "| Fan  Temp  Perf  Pwr:Usage/Cap|         Memory-Usage | GPU-Util  Compute M. |\n",
            "|                               |                      |               MIG M. |\n",
            "|===============================+======================+======================|\n",
            "|   0  Tesla T4            Off  | 00000000:00:04.0 Off |                    0 |\n",
            "| N/A   44C    P8     9W /  70W |      3MiB / 15109MiB |      0%      Default |\n",
            "|                               |                      |                  N/A |\n",
            "+-------------------------------+----------------------+----------------------+\n",
            "                                                                               \n",
            "+-----------------------------------------------------------------------------+\n",
            "| Processes:                                                                  |\n",
            "|  GPU   GI   CI        PID   Type   Process name                  GPU Memory |\n",
            "|        ID   ID                                                   Usage      |\n",
            "|=============================================================================|\n",
            "|  No running processes found                                                 |\n",
            "+-----------------------------------------------------------------------------+\n"
          ]
        }
      ]
    },
    {
      "cell_type": "code",
      "source": [
        "torch.manual_seed(0)\n"
      ],
      "metadata": {
        "id": "ysNH-Ma3uL7-",
        "colab": {
          "base_uri": "https://localhost:8080/"
        },
        "outputId": "501483e7-c1b2-4c2b-af63-a1e7d6584c96"
      },
      "execution_count": null,
      "outputs": [
        {
          "output_type": "execute_result",
          "data": {
            "text/plain": [
              "<torch._C.Generator at 0x7f2ed8deb2f0>"
            ]
          },
          "metadata": {},
          "execution_count": 19
        }
      ]
    },
    {
      "cell_type": "code",
      "source": [
        "tokenizer = GPT2Tokenizer.from_pretrained('gpt2-medium', bos_token='<start>',\n",
        "                                          eos_token='<end>', pad_token='<pad>')\n",
        "model = GPT2LMHeadModel.from_pretrained('gpt2-medium').cuda()\n",
        "model.resize_token_embeddings(len(tokenizer))"
      ],
      "metadata": {
        "id": "iDR79i-kubtx",
        "colab": {
          "base_uri": "https://localhost:8080/",
          "height": 181,
          "referenced_widgets": [
            "8a97f807b44f4b0abdd207c661015b04",
            "8b8d4b6075214f4987434294d0ea0388",
            "d6e135484f9b4cdf8d052904744cd0a3",
            "f12fdc5fc38c47beab060605d518bb5a",
            "a1fda371962f405f8e7ae9a238929a9a",
            "f544f0d7b5ec46888ab53d5658e7c785",
            "344d6e352d994263a1f51256492df6da",
            "7975e148a31042908add17d8f00d5407",
            "cc972e994ca0489d97cc4d921287b0f2",
            "2b778f2d99564c3abc167b63be212f61",
            "966b8af84f8c4dbc85245fa315c5d5e7",
            "6034d6141649427f89285cbe0b062388",
            "e88c4bebf2b64aceb3795ee8c867c693",
            "29a7c79857cb447fa699b5750f75257b",
            "0039732ce3c349ff9eefc70848c9dcad",
            "6b90512079884161ae84873ae6d704a1",
            "e1a8b7e9622e41d5ae93d84d7557c7bc",
            "f040a984c4dc49a4a32477be73327d84",
            "678c23add4414b4196b6fb3b6be17abd",
            "22257ed4c4254d29af6d825b1d77b78c",
            "68b856ba2b1d4943a4212d51869e604d",
            "f2426b2b9ff843fb9910914cba5490eb",
            "57596295df8c405090bc82166b93dd46",
            "b74d79334bea4444ac2406b8d3547bc8",
            "f698d0651e20423885feb82c43e55155",
            "26d003eaf2ab4970bc1bd1b0deaa156e",
            "a09f017a08fb4074bad71be1fb895023",
            "4d50e272af4148d7925003173fdc0467",
            "a4a3fe9f20c04856b208527529d8bcf2",
            "ae831e9da7cb424bab41ff9cb671694a",
            "5bf002e359c141a2a2db09ddcfe6bc17",
            "5c4073a3b3df48989f77e32d5f3ffa29",
            "a93ffb47f7e04bd685a7dbc11b6fb7e4",
            "c5206b7c460b425bbc5e310c01eff223",
            "2e8af49da2764d4a8d3408d026037607",
            "86d8434b4dd5447d85c8980b95f1389b",
            "37c0f697da5c4ebf840ab41c298f5d8c",
            "4b3d417992164f9081653efdab2aa4ff",
            "4c22dfa44f5244c2a823f4ee65f08f7e",
            "d86cb5486689465598f203f5eaa759e2",
            "50c4e4f3bc1b4c7faacf2787b0e8a6c9",
            "016ae37dae664b628ce7bb40e1e16592",
            "542fc274aa3f48198e8b7b097080a1de",
            "0e39d74c98ca44849b5ea051c328b3eb"
          ]
        },
        "outputId": "6454ae77-c7ac-4f89-cd56-03ce09ac6340"
      },
      "execution_count": null,
      "outputs": [
        {
          "output_type": "display_data",
          "data": {
            "text/plain": [
              "Downloading vocab.json:   0%|          | 0.00/0.99M [00:00<?, ?B/s]"
            ],
            "application/vnd.jupyter.widget-view+json": {
              "version_major": 2,
              "version_minor": 0,
              "model_id": "8a97f807b44f4b0abdd207c661015b04"
            }
          },
          "metadata": {}
        },
        {
          "output_type": "display_data",
          "data": {
            "text/plain": [
              "Downloading merges.txt:   0%|          | 0.00/446k [00:00<?, ?B/s]"
            ],
            "application/vnd.jupyter.widget-view+json": {
              "version_major": 2,
              "version_minor": 0,
              "model_id": "6034d6141649427f89285cbe0b062388"
            }
          },
          "metadata": {}
        },
        {
          "output_type": "display_data",
          "data": {
            "text/plain": [
              "Downloading config.json:   0%|          | 0.00/718 [00:00<?, ?B/s]"
            ],
            "application/vnd.jupyter.widget-view+json": {
              "version_major": 2,
              "version_minor": 0,
              "model_id": "57596295df8c405090bc82166b93dd46"
            }
          },
          "metadata": {}
        },
        {
          "output_type": "stream",
          "name": "stderr",
          "text": [
            "Special tokens have been added in the vocabulary, make sure the associated word embeddings are fine-tuned or trained.\n"
          ]
        },
        {
          "output_type": "display_data",
          "data": {
            "text/plain": [
              "Downloading pytorch_model.bin:   0%|          | 0.00/1.42G [00:00<?, ?B/s]"
            ],
            "application/vnd.jupyter.widget-view+json": {
              "version_major": 2,
              "version_minor": 0,
              "model_id": "c5206b7c460b425bbc5e310c01eff223"
            }
          },
          "metadata": {}
        },
        {
          "output_type": "execute_result",
          "data": {
            "text/plain": [
              "Embedding(50260, 1024)"
            ]
          },
          "metadata": {},
          "execution_count": 20
        }
      ]
    },
    {
      "cell_type": "code",
      "source": [
        "sentences = np.hstack(sentences)"
      ],
      "metadata": {
        "id": "Ecvh4ZAYvdWx"
      },
      "execution_count": null,
      "outputs": []
    },
    {
      "cell_type": "code",
      "source": [
        "max_length = max([len(tokenizer.encode(sentence)) for sentence in sentences])\n"
      ],
      "metadata": {
        "id": "Ep_89s05uj41"
      },
      "execution_count": null,
      "outputs": []
    },
    {
      "cell_type": "code",
      "source": [
        "max_length"
      ],
      "metadata": {
        "id": "4NCy5zSGwps2",
        "colab": {
          "base_uri": "https://localhost:8080/"
        },
        "outputId": "8e7969ae-5908-4aaa-ef89-e5a0c9c57222"
      },
      "execution_count": null,
      "outputs": [
        {
          "output_type": "execute_result",
          "data": {
            "text/plain": [
              "299"
            ]
          },
          "metadata": {},
          "execution_count": 25
        }
      ]
    },
    {
      "cell_type": "code",
      "source": [
        "class LovecraftDataset(Dataset):\n",
        "    def __init__(self, txt_list, tokenizer, max_length\n",
        "                 ):\n",
        "        self.input_ids = []\n",
        "        self.attn_masks = []\n",
        "        self.labels = []\n",
        "        for txt in txt_list:\n",
        "            encodings_dict = tokenizer('<start>' + txt + '<end>', truncation=True,\n",
        "                                       max_length=max_length, padding=\"max_length\")\n",
        "            self.input_ids.append(torch.tensor(encodings_dict['input_ids']))\n",
        "            self.attn_masks.append(torch.tensor(encodings_dict['attention_mask']))\n",
        "\n",
        "    def __len__(self):\n",
        "        return len(self.input_ids)\n",
        "\n",
        "    def __getitem__(self, idx):\n",
        "        return self.input_ids[idx], self.attn_masks[idx]"
      ],
      "metadata": {
        "id": "zLYxBOdEwq1O"
      },
      "execution_count": null,
      "outputs": []
    },
    {
      "cell_type": "code",
      "source": [
        "dataset = LovecraftDataset(sentences, tokenizer, max_length=max_length)\n"
      ],
      "metadata": {
        "id": "sez3-oE0xIUY"
      },
      "execution_count": null,
      "outputs": []
    },
    {
      "cell_type": "code",
      "source": [
        "train_size = int(0.9 * len(dataset))\n",
        "train_dataset, val_dataset = random_split(dataset, [train_size, len(dataset) - train_size])"
      ],
      "metadata": {
        "id": "s6hGrXOwxVTa"
      },
      "execution_count": null,
      "outputs": []
    },
    {
      "cell_type": "code",
      "source": [
        "torch.cuda.empty_cache()\n",
        "import gc \n",
        "gc.collect();\n"
      ],
      "metadata": {
        "id": "ohyzovPozHpl"
      },
      "execution_count": null,
      "outputs": []
    },
    {
      "cell_type": "code",
      "source": [
        "training_args = TrainingArguments(output_dir='drive/MyDrive/model_gpt_lovecraft', num_train_epochs=2, logging_steps=1000, save_steps=10000,\n",
        "                                  per_device_train_batch_size=1, per_device_eval_batch_size=1,\n",
        "                                  warmup_steps=100, weight_decay=0.06, logging_dir='./logs', report_to = 'none')"
      ],
      "metadata": {
        "id": "q4EMvV4oxogW"
      },
      "execution_count": null,
      "outputs": []
    },
    {
      "cell_type": "code",
      "source": [
        "trainer = Trainer(model=model,  args=training_args, train_dataset=train_dataset, \n",
        "        eval_dataset=val_dataset, data_collator=lambda data: {'input_ids': torch.stack([f[0] for f in data]),\n",
        "                                                              'attention_mask': torch.stack([f[1] for f in data]),\n",
        "                                                              'labels': torch.stack([f[0] for f in data])})"
      ],
      "metadata": {
        "id": "3t3HSxqKxwgz"
      },
      "execution_count": null,
      "outputs": []
    },
    {
      "cell_type": "code",
      "source": [
        "trainer.train()"
      ],
      "metadata": {
        "colab": {
          "base_uri": "https://localhost:8080/",
          "height": 1000
        },
        "id": "4iiS8lSmisG9",
        "outputId": "b0265869-8a22-4dda-f9c7-51b3495c8572"
      },
      "execution_count": null,
      "outputs": [
        {
          "output_type": "stream",
          "name": "stderr",
          "text": [
            "/usr/local/lib/python3.7/dist-packages/transformers/optimization.py:310: FutureWarning: This implementation of AdamW is deprecated and will be removed in a future version. Use the PyTorch implementation torch.optim.AdamW instead, or set `no_deprecation_warning=True` to disable this warning\n",
            "  FutureWarning,\n",
            "***** Running training *****\n",
            "  Num examples = 25799\n",
            "  Num Epochs = 2\n",
            "  Instantaneous batch size per device = 1\n",
            "  Total train batch size (w. parallel, distributed & accumulation) = 1\n",
            "  Gradient Accumulation steps = 1\n",
            "  Total optimization steps = 51598\n"
          ]
        },
        {
          "output_type": "display_data",
          "data": {
            "text/plain": [
              "<IPython.core.display.HTML object>"
            ],
            "text/html": [
              "\n",
              "    <div>\n",
              "      \n",
              "      <progress value='51598' max='51598' style='width:300px; height:20px; vertical-align: middle;'></progress>\n",
              "      [51598/51598 5:45:23, Epoch 2/2]\n",
              "    </div>\n",
              "    <table border=\"1\" class=\"dataframe\">\n",
              "  <thead>\n",
              " <tr style=\"text-align: left;\">\n",
              "      <th>Step</th>\n",
              "      <th>Training Loss</th>\n",
              "    </tr>\n",
              "  </thead>\n",
              "  <tbody>\n",
              "    <tr>\n",
              "      <td>1000</td>\n",
              "      <td>0.464500</td>\n",
              "    </tr>\n",
              "    <tr>\n",
              "      <td>2000</td>\n",
              "      <td>0.472100</td>\n",
              "    </tr>\n",
              "    <tr>\n",
              "      <td>3000</td>\n",
              "      <td>0.443000</td>\n",
              "    </tr>\n",
              "    <tr>\n",
              "      <td>4000</td>\n",
              "      <td>0.433000</td>\n",
              "    </tr>\n",
              "    <tr>\n",
              "      <td>5000</td>\n",
              "      <td>0.428900</td>\n",
              "    </tr>\n",
              "    <tr>\n",
              "      <td>6000</td>\n",
              "      <td>0.427500</td>\n",
              "    </tr>\n",
              "    <tr>\n",
              "      <td>7000</td>\n",
              "      <td>0.423300</td>\n",
              "    </tr>\n",
              "    <tr>\n",
              "      <td>8000</td>\n",
              "      <td>0.436700</td>\n",
              "    </tr>\n",
              "    <tr>\n",
              "      <td>9000</td>\n",
              "      <td>0.436900</td>\n",
              "    </tr>\n",
              "    <tr>\n",
              "      <td>10000</td>\n",
              "      <td>0.432100</td>\n",
              "    </tr>\n",
              "    <tr>\n",
              "      <td>11000</td>\n",
              "      <td>0.423400</td>\n",
              "    </tr>\n",
              "    <tr>\n",
              "      <td>12000</td>\n",
              "      <td>0.439500</td>\n",
              "    </tr>\n",
              "    <tr>\n",
              "      <td>13000</td>\n",
              "      <td>0.414500</td>\n",
              "    </tr>\n",
              "    <tr>\n",
              "      <td>14000</td>\n",
              "      <td>0.411300</td>\n",
              "    </tr>\n",
              "    <tr>\n",
              "      <td>15000</td>\n",
              "      <td>0.424200</td>\n",
              "    </tr>\n",
              "    <tr>\n",
              "      <td>16000</td>\n",
              "      <td>0.431400</td>\n",
              "    </tr>\n",
              "    <tr>\n",
              "      <td>17000</td>\n",
              "      <td>0.420400</td>\n",
              "    </tr>\n",
              "    <tr>\n",
              "      <td>18000</td>\n",
              "      <td>0.431000</td>\n",
              "    </tr>\n",
              "    <tr>\n",
              "      <td>19000</td>\n",
              "      <td>0.423000</td>\n",
              "    </tr>\n",
              "    <tr>\n",
              "      <td>20000</td>\n",
              "      <td>0.410400</td>\n",
              "    </tr>\n",
              "    <tr>\n",
              "      <td>21000</td>\n",
              "      <td>0.416600</td>\n",
              "    </tr>\n",
              "    <tr>\n",
              "      <td>22000</td>\n",
              "      <td>0.424600</td>\n",
              "    </tr>\n",
              "    <tr>\n",
              "      <td>23000</td>\n",
              "      <td>0.416700</td>\n",
              "    </tr>\n",
              "    <tr>\n",
              "      <td>24000</td>\n",
              "      <td>0.416900</td>\n",
              "    </tr>\n",
              "    <tr>\n",
              "      <td>25000</td>\n",
              "      <td>0.397400</td>\n",
              "    </tr>\n",
              "    <tr>\n",
              "      <td>26000</td>\n",
              "      <td>0.390700</td>\n",
              "    </tr>\n",
              "    <tr>\n",
              "      <td>27000</td>\n",
              "      <td>0.335300</td>\n",
              "    </tr>\n",
              "    <tr>\n",
              "      <td>28000</td>\n",
              "      <td>0.345800</td>\n",
              "    </tr>\n",
              "    <tr>\n",
              "      <td>29000</td>\n",
              "      <td>0.329100</td>\n",
              "    </tr>\n",
              "    <tr>\n",
              "      <td>30000</td>\n",
              "      <td>0.339100</td>\n",
              "    </tr>\n",
              "    <tr>\n",
              "      <td>31000</td>\n",
              "      <td>0.348400</td>\n",
              "    </tr>\n",
              "    <tr>\n",
              "      <td>32000</td>\n",
              "      <td>0.339500</td>\n",
              "    </tr>\n",
              "    <tr>\n",
              "      <td>33000</td>\n",
              "      <td>0.340800</td>\n",
              "    </tr>\n",
              "    <tr>\n",
              "      <td>34000</td>\n",
              "      <td>0.333200</td>\n",
              "    </tr>\n",
              "    <tr>\n",
              "      <td>35000</td>\n",
              "      <td>0.327800</td>\n",
              "    </tr>\n",
              "    <tr>\n",
              "      <td>36000</td>\n",
              "      <td>0.336000</td>\n",
              "    </tr>\n",
              "    <tr>\n",
              "      <td>37000</td>\n",
              "      <td>0.339900</td>\n",
              "    </tr>\n",
              "    <tr>\n",
              "      <td>38000</td>\n",
              "      <td>0.334600</td>\n",
              "    </tr>\n",
              "    <tr>\n",
              "      <td>39000</td>\n",
              "      <td>0.352700</td>\n",
              "    </tr>\n",
              "    <tr>\n",
              "      <td>40000</td>\n",
              "      <td>0.328500</td>\n",
              "    </tr>\n",
              "    <tr>\n",
              "      <td>41000</td>\n",
              "      <td>0.356400</td>\n",
              "    </tr>\n",
              "    <tr>\n",
              "      <td>42000</td>\n",
              "      <td>0.332600</td>\n",
              "    </tr>\n",
              "    <tr>\n",
              "      <td>43000</td>\n",
              "      <td>0.345500</td>\n",
              "    </tr>\n",
              "    <tr>\n",
              "      <td>44000</td>\n",
              "      <td>0.340400</td>\n",
              "    </tr>\n",
              "    <tr>\n",
              "      <td>45000</td>\n",
              "      <td>0.343500</td>\n",
              "    </tr>\n",
              "    <tr>\n",
              "      <td>46000</td>\n",
              "      <td>0.338200</td>\n",
              "    </tr>\n",
              "    <tr>\n",
              "      <td>47000</td>\n",
              "      <td>0.325800</td>\n",
              "    </tr>\n",
              "    <tr>\n",
              "      <td>48000</td>\n",
              "      <td>0.335200</td>\n",
              "    </tr>\n",
              "    <tr>\n",
              "      <td>49000</td>\n",
              "      <td>0.343000</td>\n",
              "    </tr>\n",
              "    <tr>\n",
              "      <td>50000</td>\n",
              "      <td>0.338600</td>\n",
              "    </tr>\n",
              "    <tr>\n",
              "      <td>51000</td>\n",
              "      <td>0.338200</td>\n",
              "    </tr>\n",
              "  </tbody>\n",
              "</table><p>"
            ]
          },
          "metadata": {}
        },
        {
          "output_type": "stream",
          "name": "stderr",
          "text": [
            "Saving model checkpoint to drive/MyDrive/model_gpt_lovecraft/checkpoint-10000\n",
            "Configuration saved in drive/MyDrive/model_gpt_lovecraft/checkpoint-10000/config.json\n",
            "Model weights saved in drive/MyDrive/model_gpt_lovecraft/checkpoint-10000/pytorch_model.bin\n",
            "Saving model checkpoint to drive/MyDrive/model_gpt_lovecraft/checkpoint-20000\n",
            "Configuration saved in drive/MyDrive/model_gpt_lovecraft/checkpoint-20000/config.json\n",
            "Model weights saved in drive/MyDrive/model_gpt_lovecraft/checkpoint-20000/pytorch_model.bin\n",
            "Saving model checkpoint to drive/MyDrive/model_gpt_lovecraft/checkpoint-30000\n",
            "Configuration saved in drive/MyDrive/model_gpt_lovecraft/checkpoint-30000/config.json\n",
            "Model weights saved in drive/MyDrive/model_gpt_lovecraft/checkpoint-30000/pytorch_model.bin\n",
            "Saving model checkpoint to drive/MyDrive/model_gpt_lovecraft/checkpoint-40000\n",
            "Configuration saved in drive/MyDrive/model_gpt_lovecraft/checkpoint-40000/config.json\n",
            "Model weights saved in drive/MyDrive/model_gpt_lovecraft/checkpoint-40000/pytorch_model.bin\n",
            "Saving model checkpoint to drive/MyDrive/model_gpt_lovecraft/checkpoint-50000\n",
            "Configuration saved in drive/MyDrive/model_gpt_lovecraft/checkpoint-50000/config.json\n",
            "Model weights saved in drive/MyDrive/model_gpt_lovecraft/checkpoint-50000/pytorch_model.bin\n",
            "\n",
            "\n",
            "Training completed. Do not forget to share your model on huggingface.co/models =)\n",
            "\n",
            "\n"
          ]
        },
        {
          "output_type": "execute_result",
          "data": {
            "text/plain": [
              "TrainOutput(global_step=51598, training_loss=0.38298376347973456, metrics={'train_runtime': 20723.7711, 'train_samples_per_second': 2.49, 'train_steps_per_second': 2.49, 'total_flos': 2.798400475086029e+16, 'train_loss': 0.38298376347973456, 'epoch': 2.0})"
            ]
          },
          "metadata": {},
          "execution_count": 33
        }
      ]
    },
    {
      "cell_type": "code",
      "source": [
        "trainer.save_model('drive/MyDrive/model_gpt_lovecraft/trained_model')"
      ],
      "metadata": {
        "colab": {
          "base_uri": "https://localhost:8080/"
        },
        "id": "nPLymaz2ja3H",
        "outputId": "c5ff3f67-c541-4dd3-cfb4-6db8d912bcdb"
      },
      "execution_count": null,
      "outputs": [
        {
          "output_type": "stream",
          "name": "stderr",
          "text": [
            "Saving model checkpoint to drive/MyDrive/model_gpt_lovecraft/trained_model\n",
            "Configuration saved in drive/MyDrive/model_gpt_lovecraft/trained_model/config.json\n",
            "Model weights saved in drive/MyDrive/model_gpt_lovecraft/trained_model/pytorch_model.bin\n"
          ]
        }
      ]
    },
    {
      "cell_type": "code",
      "source": [
        "result = trainer.evaluate(val_dataset)\n"
      ],
      "metadata": {
        "colab": {
          "base_uri": "https://localhost:8080/",
          "height": 91
        },
        "id": "2fEbHISrmGdE",
        "outputId": "8a701966-f404-4c7d-ad16-9f8ffec83412"
      },
      "execution_count": null,
      "outputs": [
        {
          "output_type": "stream",
          "name": "stderr",
          "text": [
            "***** Running Evaluation *****\n",
            "  Num examples = 2867\n",
            "  Batch size = 1\n"
          ]
        },
        {
          "output_type": "display_data",
          "data": {
            "text/plain": [
              "<IPython.core.display.HTML object>"
            ],
            "text/html": [
              "\n",
              "    <div>\n",
              "      \n",
              "      <progress value='2867' max='2867' style='width:300px; height:20px; vertical-align: middle;'></progress>\n",
              "      [2867/2867 03:45]\n",
              "    </div>\n",
              "    "
            ]
          },
          "metadata": {}
        }
      ]
    },
    {
      "cell_type": "code",
      "source": [
        "result"
      ],
      "metadata": {
        "colab": {
          "base_uri": "https://localhost:8080/"
        },
        "id": "N-JErIJS4D6b",
        "outputId": "1cafe492-e802-44f3-9c53-9ed34837cbb7"
      },
      "execution_count": null,
      "outputs": [
        {
          "output_type": "execute_result",
          "data": {
            "text/plain": [
              "{'epoch': 2.0,\n",
              " 'eval_loss': 0.40212735533714294,\n",
              " 'eval_runtime': 225.6686,\n",
              " 'eval_samples_per_second': 12.704,\n",
              " 'eval_steps_per_second': 12.704}"
            ]
          },
          "metadata": {},
          "execution_count": 36
        }
      ]
    },
    {
      "cell_type": "markdown",
      "source": [
        "# Generate"
      ],
      "metadata": {
        "id": "Kd2FvUPLxtft"
      }
    },
    {
      "cell_type": "code",
      "source": [
        "generated = tokenizer(\"Ctulhu\", return_tensors=\"pt\").input_ids.cuda()\n"
      ],
      "metadata": {
        "id": "Caqxm174ddgX"
      },
      "execution_count": null,
      "outputs": []
    },
    {
      "cell_type": "code",
      "source": [
        "sample_outputs = model.generate(generated, dtop_p=0.99, temperature=1.9, do_sample=True,\n",
        "                                max_length=300, num_return_sequences=20)"
      ],
      "metadata": {
        "colab": {
          "base_uri": "https://localhost:8080/"
        },
        "id": "RV9KK23_yu_H",
        "outputId": "846e1ea3-1516-4fff-ec63-80e45d8bfb4f"
      },
      "execution_count": null,
      "outputs": [
        {
          "output_type": "stream",
          "name": "stderr",
          "text": [
            "The attention mask and the pad token id were not set. As a consequence, you may observe unexpected behavior. Please pass your input's `attention_mask` to obtain reliable results.\n",
            "Setting `pad_token_id` to `eos_token_id`:50256 for open-end generation.\n"
          ]
        }
      ]
    },
    {
      "cell_type": "code",
      "source": [
        "for i, sample_output in enumerate(sample_outputs):\n",
        "    print(\"{}: {}\".format(i, tokenizer.decode(sample_output, skip_special_tokens=True)))\n",
        "    print('*'*30)"
      ],
      "metadata": {
        "colab": {
          "base_uri": "https://localhost:8080/"
        },
        "id": "Fu1q-lslcwHb",
        "outputId": "825da21b-5a8b-41a8-d765-a6449d89d429"
      },
      "execution_count": null,
      "outputs": [
        {
          "output_type": "stream",
          "name": "stdout",
          "text": [
            "0: Ctulhu has been talking long to another elder.\n",
            "******************************\n",
            "1: Ctulhu now sank flat upon his shoulder with an appearance of fatigue; but that his worn face had come open was of more interest to all than his exhausted form on either of the three occasions brought out.\n",
            "******************************\n",
            "2: Ctulhu himself would come along in his motor at a time when Lake, of Khephrenium origin, was abroad; so that a motor would probably take care of the long bus trip down and down to Teloe across the regions of air or into distant gulfs of earth from Gondral Desert, according to Lake’s suggested theories.\n",
            "******************************\n",
            "3: Ctulhu is a very strange, grotesque God, indeed, and he will come to the world many times—if through men, but very shortly after men’s ultimate defeat at sea against him; which men know, though from some other god or forces that none of me know.\n",
            "******************************\n",
            "4: Ctulhu could never get out, though I fancy she would have told him some day had anybody dreamed the thing’s details, and then I recall that—after some subtle calming by Pánfilo De Merit and my wife—His Holiness appeared from behind the shades with a very pale and sardonic stare that must have surprised me out of doubt.\n",
            "******************************\n",
            "5: Ctulhu is coming to his father’s head but not to Arthur Harris.\n",
            "******************************\n",
            "6: Ctulhu as it had indeed been was found unburied just hours previously with one or other hole nearly filled full of greenish ashes, and had soon been buried amidst prodigious crowds of eager reporters with hands held frantically at arm’ws length.\n",
            "******************************\n",
            "7: Ctulhu himself had died six miles away, the city walls being too heavilywarked betwixt his bones; though he would frequently haunt certain deserted ravines within sight or within hearing range till dawn.\n",
            "******************************\n",
            "8: Ctulhu was a master with the secret behind every finger-tips, so there had certainly been far over this planet too strange men!\n",
            "******************************\n",
            "9: Ctulhu scholar is more impressed than excited, and his new books and theories make us shudder all over what is reported to exist in nightmare secret hidden passages of the abyss of myth by those frightened ancient men to his elder folk the night ocean and elder wood.[from Brown; “Waukesha”—Norton: The Key) In time the frightful cylinder-spoken text became singular indeed, having more in common with strange cosmic dreaming, hieroglyphics of preultima and nomenclature unknown up to half-century in antiquity, than anything sane had ever been known among human human minds without special specialised emotional connection after some formational disturbance within man’s morbid past.\n",
            "******************************\n",
            "10: Ctulhu-spawn were those beings first glimpsed and mentioned. device\n",
            "******************************\n",
            "11: Ctulhu-People have a strange kind of pride in their toughness alone among the Great Old Ones; especially regarding its toughness when hit in hard battle, or when its physical attributes were strained beyond the power of ordinary mankind to produce them.\n",
            "******************************\n",
            "12: Ctulhu from the gulfs below grew very frantic for access to such an altar that lay open under those circumstances, and at one moment became suddenly articulate in a language unknown and unimaginable to that inner, dim reality in which we both stood.\n",
            "******************************\n",
            "13: Ctulhu at the Lake—an exploration by the Associated Press of New York.]\n",
            "******************************\n",
            "14: Ctulhu is now very feeble, and probably becomes one night-goddess himself through death—a dream-voodoo artist if—if there be such a case then what is called magic can save him.’ Georgina had taken a deep step toward walking across their graves.\n",
            "******************************\n",
            "15: Ctulhu seemed likewise absent, nor did his long face mask any signs of its previous years of madness as now glimpsed through the spectropolier piercing the slant-lightnings upon the ragged and almost glimmering plain behind which his figure was mounting as clouds ascended toward us.\n",
            "******************************\n",
            "16: Ctulhu is, after all, beyond anything imagined when his race came to the world, where even gods do not exist now save among priests.\n",
            "******************************\n",
            "17: Ctulhu fuh!—you have better get used to them.\n",
            "******************************\n",
            "18: Ctulhu’s primal ments are those secrets which came to one with an original curiosity more heightened and than balanced by the knowledge at our disposal.\n",
            "******************************\n",
            "19: Ctulhu as well became very tangible, and when there came to me another picture of those nimbatus-like hands still raised wearily at arm’angle speed through earth’s bowels in response to my mental motion of the claw which unlocked them.\n",
            "******************************\n"
          ]
        }
      ]
    },
    {
      "cell_type": "code",
      "source": [
        "generated = tokenizer(\"The old folk\", return_tensors=\"pt\").input_ids.cuda()\n"
      ],
      "metadata": {
        "id": "LOmPWdppdAly"
      },
      "execution_count": null,
      "outputs": []
    },
    {
      "cell_type": "code",
      "source": [
        "sample_outputs = model.generate(generated, dtop_p=0.99, temperature=1.9, do_sample=True,\n",
        "                                max_length=300, num_return_sequences=20)"
      ],
      "metadata": {
        "colab": {
          "base_uri": "https://localhost:8080/"
        },
        "id": "TUVUNRa57N0h",
        "outputId": "9b2b6ecf-509c-46d5-dba2-d59be6581f8e"
      },
      "execution_count": null,
      "outputs": [
        {
          "output_type": "stream",
          "name": "stderr",
          "text": [
            "The attention mask and the pad token id were not set. As a consequence, you may observe unexpected behavior. Please pass your input's `attention_mask` to obtain reliable results.\n",
            "Setting `pad_token_id` to `eos_token_id`:50256 for open-end generation.\n"
          ]
        }
      ]
    },
    {
      "cell_type": "code",
      "source": [
        "for i, sample_output in enumerate(sample_outputs):\n",
        "    print(\"{}: {}\".format(i, tokenizer.decode(sample_output, skip_special_tokens=True)))\n",
        "    print('*'*30)"
      ],
      "metadata": {
        "colab": {
          "base_uri": "https://localhost:8080/"
        },
        "id": "rgDVPudf7Paj",
        "outputId": "5f2b4b3a-d4a7-48d5-da7d-15260f476a18"
      },
      "execution_count": null,
      "outputs": [
        {
          "output_type": "stream",
          "name": "stdout",
          "text": [
            "0: The old folk like those to whom that amulet had come often turned heads in tales of what the evil-faced merchant implied had struck poor Arthur Munroe hard in 1786; while the bearded farmer wondered whether some devilish deed could explain his frequent trips and travels that went on to that of great-great-grandfather Wilbour to Albany, and perhaps elsewhere to London and Salem and Cape Girardeau in some secret, forgotten cellar room, with never being told about the matter.\n",
            "******************************\n",
            "1: The old folk of the land used curious stones and made other wonders behind that black key with traces of it, but this little daemon he alone dared touch.\n",
            "******************************\n",
            "2: The old folk talked less, but there seemed a kind of suspicion that their silent and flaky faces were likethose before that terrible night in the village, as if evil laughter came from beyond the trees with that wailing callous of years far below the waves.\n",
            "******************************\n",
            "3: The old folk in Mnar say he is quite as immortal and eternal as if alive here; and the shoggoths never stop digging things in the black depths—even those deeper—that have escaped.\n",
            "******************************\n",
            "4: The old folk whispered things concerning the devil-goddess Azathoth that moved along the ways of men through the air with its winged legions; and old priests hinted secrets learned many ages ago from lost Kingsport when Kingsport was young.\n",
            "******************************\n",
            "5: The old folk say queer things about it; saying there seems to lurk onyx within Liguria’s peak caverns beneath Kingsport where ghasts hide in black caves as ghouls are used and hated when under the yoked yews guard the altar-stones on Kingsport stones from King’smarrow.\n",
            "******************************\n",
            "6: The old folk used to stand around each nameless corpse like the villagers did around Gawd’s statue, and there were also small farms where gugs had been shot on Sabbat-responsible days and the heads of beasts were devoured.\n",
            "******************************\n",
            "7: The old folk and small farmers whispered among themselves, of hidden mountains with caves not made by man, hills and aire grown black on account that strange lands of Inganok no longer return that man might go down to Inganok lest some unkempt blight beset him instead of blessing him with its love.\n",
            "******************************\n",
            "8: The old folk here talk about things so weird an odd it borders on blasphemy.Id\n",
            "******************************\n",
            "9: The old folk were more talkative toward you as you grew feeble into older men of less intelligence and sense of duty, and told often of old Captain Haines being on the watch the queer days.\n",
            "******************************\n",
            "10: The old folk were frightened of ghouls—though all but one house belonged to those with torches, meaning they might flee or attempt escape without having to go upstairs. More\n",
            "******************************\n",
            "11: The old folk like to think people have started witchcraft elsewhere than near Innsmouth.\n",
            "******************************\n",
            "12: The old folk are the last to notice the way people are fleeing to regions where they cannot be seen—ways into certain black basalt cities where the Old Ones themselves are known only fragments, where the terrible old temples are not worn to permit those beings out.\n",
            "******************************\n",
            "13: The old folk used to make strange charms with those branches for peace when at noon it broke down in the woods under cover of a wildstorm; and there was not then much on the windowsills as the place had once been.\n",
            "******************************\n",
            "14: The old folk whispered how that night a white hare flew low over their hills, before having vanished among them and running far across open country to a mighty oak.\n",
            "******************************\n",
            "15: The old folk said he had it inside as often as three or four days. typical\n",
            "******************************\n",
            "16: The old folk, having all lost their reason during certain generations of its use and now wishing to hide with its properties from allurement, tried desperately to hide that fact and carry what belonged to old Zillyphaus, that they felt sure old Farragut could handle just under anything else.\n",
            "******************************\n",
            "17: The old folk swear it rains on the mountain, and even the little farmstead bells, and people whisper it marks it, or tells on its hidden hill beside thatched and ivied cottage where a lean cat can crouek and gaze out above endless, loughing sea.\n",
            "******************************\n",
            "18: The old folk have always maintained his memory; so that whenever it came, he had not much choice but to say, “I’ve had experiences of the most peculiar and profound importance to report since Mevana’d you were back—on November 13, 1875, with your wife Nels being in the room at home with the family dog.\n",
            "******************************\n",
            "19: The old folk were never glad when a new boy begun following their new music led Ones into an arranged room for the service.\n",
            "******************************\n"
          ]
        }
      ]
    },
    {
      "cell_type": "markdown",
      "source": [
        "# Conclusion\n",
        "As it can be seen, tuned gpt-2 learns the structure and style of author's writing. In particular, the examples of it are the following:\n",
        "\n",
        "1) *The old folk used to stand around each nameless corpse like the villagers did around Gawd’s statue, and there were also small farms where gugs had been shot on Sabbat-responsible days and the heads of beasts were devoured.*\n",
        "\n",
        "2) *The old folk like those to whom that amulet had come often turned heads in tales of what the evil-faced merchant implied had struck poor Arthur Munroe hard in 1786; while the bearded farmer wondered whether some devilish deed could explain his frequent trips and travels that went on to that of great-great-grandfather Wilbour to Albany, and perhaps elsewhere to London and Salem and Cape Girardeau in some secret, forgotten cellar room, with never being told about the matter.*\n",
        "\n",
        "3) *Ctulhu is a very strange, grotesque God, indeed, and he will come to the world many times—if through men, but very shortly after men’s ultimate defeat at sea against him; which men know, though from some other god or forces that none of me know.*\n",
        "\n",
        "From the examples mentioned above it's clear, that generated text has attirbutes specific to the author's style (used words, names of characters from his compositions, overall context of the text which has a shade of horror)\n",
        "\n"
      ],
      "metadata": {
        "id": "ClT7h-BmmXMr"
      }
    },
    {
      "cell_type": "code",
      "source": [
        ""
      ],
      "metadata": {
        "id": "lokYDVuAmjIY"
      },
      "execution_count": null,
      "outputs": []
    }
  ]
}