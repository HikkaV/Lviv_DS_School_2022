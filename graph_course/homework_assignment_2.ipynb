{
  "cells": [
    {
      "cell_type": "code",
      "execution_count": 1,
      "id": "4d108e92",
      "metadata": {
        "colab": {
          "base_uri": "https://localhost:8080/"
        },
        "id": "4d108e92",
        "outputId": "271fed87-b80c-435b-80b4-7e0718e1f57f"
      },
      "outputs": [
        {
          "output_type": "stream",
          "name": "stdout",
          "text": [
            "Looking in indexes: https://pypi.org/simple, https://us-python.pkg.dev/colab-wheels/public/simple/\n",
            "Requirement already satisfied: ogb in /usr/local/lib/python3.7/dist-packages (1.3.3)\n",
            "Requirement already satisfied: torch in /usr/local/lib/python3.7/dist-packages (1.12.0+cu113)\n",
            "Requirement already satisfied: tqdm>=4.29.0 in /usr/local/lib/python3.7/dist-packages (from ogb) (4.64.0)\n",
            "Requirement already satisfied: pandas>=0.24.0 in /usr/local/lib/python3.7/dist-packages (from ogb) (1.3.5)\n",
            "Requirement already satisfied: six>=1.12.0 in /usr/local/lib/python3.7/dist-packages (from ogb) (1.15.0)\n",
            "Requirement already satisfied: urllib3>=1.24.0 in /usr/local/lib/python3.7/dist-packages (from ogb) (1.24.3)\n",
            "Requirement already satisfied: outdated>=0.2.0 in /usr/local/lib/python3.7/dist-packages (from ogb) (0.2.1)\n",
            "Requirement already satisfied: scikit-learn>=0.20.0 in /usr/local/lib/python3.7/dist-packages (from ogb) (1.0.2)\n",
            "Requirement already satisfied: numpy>=1.16.0 in /usr/local/lib/python3.7/dist-packages (from ogb) (1.21.6)\n",
            "Requirement already satisfied: typing-extensions in /usr/local/lib/python3.7/dist-packages (from torch) (4.1.1)\n",
            "Requirement already satisfied: littleutils in /usr/local/lib/python3.7/dist-packages (from outdated>=0.2.0->ogb) (0.2.2)\n",
            "Requirement already satisfied: requests in /usr/local/lib/python3.7/dist-packages (from outdated>=0.2.0->ogb) (2.23.0)\n",
            "Requirement already satisfied: python-dateutil>=2.7.3 in /usr/local/lib/python3.7/dist-packages (from pandas>=0.24.0->ogb) (2.8.2)\n",
            "Requirement already satisfied: pytz>=2017.3 in /usr/local/lib/python3.7/dist-packages (from pandas>=0.24.0->ogb) (2022.1)\n",
            "Requirement already satisfied: scipy>=1.1.0 in /usr/local/lib/python3.7/dist-packages (from scikit-learn>=0.20.0->ogb) (1.7.3)\n",
            "Requirement already satisfied: threadpoolctl>=2.0.0 in /usr/local/lib/python3.7/dist-packages (from scikit-learn>=0.20.0->ogb) (3.1.0)\n",
            "Requirement already satisfied: joblib>=0.11 in /usr/local/lib/python3.7/dist-packages (from scikit-learn>=0.20.0->ogb) (1.1.0)\n",
            "Requirement already satisfied: chardet<4,>=3.0.2 in /usr/local/lib/python3.7/dist-packages (from requests->outdated>=0.2.0->ogb) (3.0.4)\n",
            "Requirement already satisfied: certifi>=2017.4.17 in /usr/local/lib/python3.7/dist-packages (from requests->outdated>=0.2.0->ogb) (2022.6.15)\n",
            "Requirement already satisfied: idna<3,>=2.5 in /usr/local/lib/python3.7/dist-packages (from requests->outdated>=0.2.0->ogb) (2.10)\n",
            "Looking in indexes: https://pypi.org/simple, https://us-python.pkg.dev/colab-wheels/public/simple/\n",
            "Requirement already satisfied: dgl-cu101 in /usr/local/lib/python3.7/dist-packages (0.6.1)\n",
            "Requirement already satisfied: networkx>=2.1 in /usr/local/lib/python3.7/dist-packages (from dgl-cu101) (2.6.3)\n",
            "Requirement already satisfied: scipy>=1.1.0 in /usr/local/lib/python3.7/dist-packages (from dgl-cu101) (1.7.3)\n",
            "Requirement already satisfied: numpy>=1.14.0 in /usr/local/lib/python3.7/dist-packages (from dgl-cu101) (1.21.6)\n",
            "Requirement already satisfied: requests>=2.19.0 in /usr/local/lib/python3.7/dist-packages (from dgl-cu101) (2.23.0)\n",
            "Requirement already satisfied: chardet<4,>=3.0.2 in /usr/local/lib/python3.7/dist-packages (from requests>=2.19.0->dgl-cu101) (3.0.4)\n",
            "Requirement already satisfied: urllib3!=1.25.0,!=1.25.1,<1.26,>=1.21.1 in /usr/local/lib/python3.7/dist-packages (from requests>=2.19.0->dgl-cu101) (1.24.3)\n",
            "Requirement already satisfied: idna<3,>=2.5 in /usr/local/lib/python3.7/dist-packages (from requests>=2.19.0->dgl-cu101) (2.10)\n",
            "Requirement already satisfied: certifi>=2017.4.17 in /usr/local/lib/python3.7/dist-packages (from requests>=2.19.0->dgl-cu101) (2022.6.15)\n"
          ]
        }
      ],
      "source": [
        "!pip3 install ogb torch \n",
        "!pip3 install dgl-cu101"
      ]
    },
    {
      "cell_type": "code",
      "source": [
        "import torch\n",
        "import torch.nn as nn\n",
        "import torch.nn.functional as F\n",
        "import dgl\n",
        "from dgl.nn import SAGEConv, GraphConv\n",
        "from torch.nn import Linear\n",
        "import dgl.function as fn\n",
        "import pandas as pd\n",
        "import sklearn.metrics as sk_m\n",
        "import numpy as np\n",
        "import scipy.sparse as sp\n",
        "import itertools\n",
        "from ogb.graphproppred import DglGraphPropPredDataset\n",
        "from torch.utils.data import Dataset\n",
        "from tqdm import tqdm\n",
        "from collections import Counter\n",
        "import random\n",
        "import os\n",
        "from ogb.graphproppred import Evaluator\n"
      ],
      "metadata": {
        "id": "O5VbbQK7VsQ_",
        "outputId": "367e5cbd-7a9c-4530-fddf-3b7eebd5d0de",
        "colab": {
          "base_uri": "https://localhost:8080/"
        }
      },
      "id": "O5VbbQK7VsQ_",
      "execution_count": 2,
      "outputs": [
        {
          "output_type": "stream",
          "name": "stderr",
          "text": [
            "Using backend: pytorch\n"
          ]
        }
      ]
    },
    {
      "cell_type": "code",
      "execution_count": 3,
      "id": "750c46d7",
      "metadata": {
        "id": "750c46d7"
      },
      "outputs": [],
      "source": [
        "device = torch.device(\"cuda\")"
      ]
    },
    {
      "cell_type": "code",
      "execution_count": 4,
      "id": "825c0a2e",
      "metadata": {
        "id": "825c0a2e"
      },
      "outputs": [],
      "source": [
        "evaluator = Evaluator(name = 'ogbg-molhiv')\n"
      ]
    },
    {
      "cell_type": "code",
      "execution_count": 5,
      "id": "b1aeca77",
      "metadata": {
        "id": "b1aeca77"
      },
      "outputs": [],
      "source": [
        "def set_seed(seed: int = 42) -> None:\n",
        "    np.random.seed(seed)\n",
        "    random.seed(seed)\n",
        "    torch.manual_seed(seed)\n",
        "    torch.cuda.manual_seed(seed)\n",
        "    # When running on the CuDNN backend, two further options must be set\n",
        "    torch.backends.cudnn.deterministic = True\n",
        "    torch.backends.cudnn.benchmark = True\n",
        "    # Set a fixed value for the hash seed\n",
        "    os.environ[\"PYTHONHASHSEED\"] = str(seed)\n",
        "    print(f\"Random seed set as {seed}\")\n"
      ]
    },
    {
      "cell_type": "code",
      "source": [
        "def get_by_indx(graphs, idx):\n",
        "  return [graphs[i] for i in idx]"
      ],
      "metadata": {
        "id": "ayBTel66YONz"
      },
      "id": "ayBTel66YONz",
      "execution_count": 6,
      "outputs": []
    },
    {
      "cell_type": "markdown",
      "id": "4dffa116",
      "metadata": {
        "id": "4dffa116"
      },
      "source": [
        "# Loading and preparing the data"
      ]
    },
    {
      "cell_type": "code",
      "execution_count": 7,
      "id": "b003aab9",
      "metadata": {
        "id": "b003aab9"
      },
      "outputs": [],
      "source": [
        "class CustomGraphDataGenerator(Dataset):\n",
        "    def __init__(self, graphs, labels, device, balanced_sampling=False, batch_size=32):\n",
        "        self.device = device\n",
        "        self.balanced_sampling = balanced_sampling\n",
        "        self.batch_size= batch_size\n",
        "        self.y = labels\n",
        "        self.X = graphs\n",
        "        if balanced_sampling:\n",
        "          self.__prepare_samples()\n",
        "          self.__define_batch_size()\n",
        "          self.neg_indices = np.array(list(range(len(self.X_neg))))\n",
        "          self.pos_indices = np.array(list(range(len(self.X_pos))))\n",
        "        self.overall_indices = np.array(list(range(len(self.X))))\n",
        "        \n",
        "    @staticmethod\n",
        "    def floor(x):\n",
        "        if x<1:\n",
        "            tmp = 1\n",
        "        else:\n",
        "            tmp = int(x)\n",
        "        return int(np.ceil(x)) if x % tmp >= 0.5 else int(np.floor(x))\n",
        "       \n",
        "    \n",
        "    def __define_batch_size(self):\n",
        "        counts = Counter(self.y.reshape(-1))\n",
        "        \n",
        "        batch_size_neg = (counts[0]/len(self.X))*self.batch_size\n",
        "        batch_size_neg = self.floor(batch_size_neg)\n",
        "        \n",
        "        batch_size_pos = (counts[1]/len(self.X))*self.batch_size\n",
        "        batch_size_pos = self.floor(batch_size_pos)\n",
        "        \n",
        "        self.batch_size_pos = batch_size_pos\n",
        "        self.batch_size_neg = batch_size_neg\n",
        "    \n",
        "    def __prepare_samples(self):\n",
        "        tmp = np.arange(len(self.X))\n",
        "        self.X_neg = get_by_indx(self.X, tmp[self.y.reshape(-1)==0])\n",
        "        self.X_pos = get_by_indx(self.X, tmp[self.y.reshape(-1)==1])\n",
        "        \n",
        "        \n",
        "    def __len__(self):\n",
        "        'Denotes the number of batches per epoch'\n",
        "        return int(np.ceil(len(self.X) / self.batch_size))\n",
        "        \n",
        "    def __getitem__(self, index):\n",
        "        if index+1>self.__len__()-1:\n",
        "            raise StopIteration\n",
        "        \n",
        "        if self.balanced_sampling:\n",
        "            \n",
        "            indices_neg = self.neg_indices[index*self.batch_size_neg:(index+1)*self.batch_size_neg]\n",
        "            indices_pos = self.pos_indices[index*self.batch_size_pos:(index+1)*self.batch_size_pos]\n",
        "\n",
        "            X = get_by_indx(self.X_pos, indices_pos)+get_by_indx(self.X_neg, indices_neg)\n",
        "            y = np.concatenate((self.y[indices_pos], self.y[indices_neg]))\n",
        "        \n",
        "            return dgl.batch(X).to(self.device), torch.Tensor(y).to(self.device)\n",
        "        \n",
        "        else:\n",
        "            \n",
        "            indices = self.overall_indices[index*self.batch_size:(index+1)*self.batch_size]\n",
        "            \n",
        "            return dgl.batch(get_by_indx(self.X, indices)).to(self.device), torch.Tensor(self.y[indices]).to(self.device)\n",
        "        \n",
        "    \n",
        "    def shuffle_indices(self):\n",
        "        np.random.shuffle(self.neg_indices)\n",
        "        np.random.shuffle(self.pos_indices)\n",
        "        np.random.shuffle(self.overall_indices)"
      ]
    },
    {
      "cell_type": "code",
      "execution_count": 8,
      "id": "11d8214e",
      "metadata": {
        "id": "11d8214e"
      },
      "outputs": [],
      "source": [
        "dataset = DglGraphPropPredDataset(name = 'ogbg-molhiv') \n",
        "split_idx = dataset.get_idx_split()\n",
        "train_idx, valid_idx, test_idx = split_idx[\"train\"], split_idx[\"valid\"], split_idx[\"test\"]\n",
        "labels = np.array(dataset.labels)\n",
        "graphs = dataset.graphs\n",
        "train_graphs, val_graphs, test_graphs  = get_by_indx(graphs, train_idx), get_by_indx(graphs, valid_idx),  get_by_indx(graphs, test_idx)\n",
        "train_labels, valid_labels, test_labels = labels[train_idx], labels[valid_idx], labels[test_idx]"
      ]
    },
    {
      "cell_type": "code",
      "execution_count": 9,
      "id": "11fdf517",
      "metadata": {
        "id": "11fdf517"
      },
      "outputs": [],
      "source": [
        "test_graphs_batched = dgl.batch(test_graphs)"
      ]
    },
    {
      "cell_type": "code",
      "execution_count": 10,
      "id": "56b998ed",
      "metadata": {
        "colab": {
          "base_uri": "https://localhost:8080/"
        },
        "id": "56b998ed",
        "outputId": "334f0556-b610-4eef-ca2b-a8e3680b6479"
      },
      "outputs": [
        {
          "output_type": "execute_result",
          "data": {
            "text/plain": [
              "Counter({0: 31669, 1: 1232})"
            ]
          },
          "metadata": {},
          "execution_count": 10
        }
      ],
      "source": [
        "Counter(train_labels.reshape(-1))"
      ]
    },
    {
      "cell_type": "code",
      "execution_count": 11,
      "id": "b65dc1fb",
      "metadata": {
        "colab": {
          "base_uri": "https://localhost:8080/"
        },
        "id": "b65dc1fb",
        "outputId": "01fcf655-39ba-4e7b-d03e-060dee90f75e"
      },
      "outputs": [
        {
          "output_type": "execute_result",
          "data": {
            "text/plain": [
              "(41127, 32901, 4113, 4113)"
            ]
          },
          "metadata": {},
          "execution_count": 11
        }
      ],
      "source": [
        "len(dataset), len(train_graphs), len(val_graphs), len(test_graphs)"
      ]
    },
    {
      "cell_type": "markdown",
      "id": "a9ee9b0b",
      "metadata": {
        "id": "a9ee9b0b"
      },
      "source": [
        "## class weights"
      ]
    },
    {
      "cell_type": "code",
      "execution_count": 12,
      "id": "99e550d0",
      "metadata": {
        "id": "99e550d0"
      },
      "outputs": [],
      "source": [
        "from sklearn.utils.class_weight import compute_class_weight"
      ]
    },
    {
      "cell_type": "code",
      "execution_count": 13,
      "id": "50343e0b",
      "metadata": {
        "id": "50343e0b"
      },
      "outputs": [],
      "source": [
        "class_weights = compute_class_weight('balanced', y=train_labels.reshape(-1),\n",
        "                                     classes=np.unique(train_labels.reshape(-1)))\n"
      ]
    },
    {
      "cell_type": "markdown",
      "id": "868259ff",
      "metadata": {
        "id": "868259ff"
      },
      "source": [
        "# Training"
      ]
    },
    {
      "cell_type": "code",
      "execution_count": 21,
      "id": "2cd37571",
      "metadata": {
        "id": "2cd37571"
      },
      "outputs": [],
      "source": [
        "from copy import deepcopy\n",
        "def metrics(labels, scores, threshold=0.5):\n",
        "    labels = np.hstack([i.reshape(-1) for i in labels])\n",
        "    scores = np.hstack([i.reshape(-1) for i in scores])\n",
        "    pred = (np.array(scores)>threshold).astype(int)\n",
        "    f1 = sk_m.f1_score(y_pred=pred, y_true=labels, average='binary')\n",
        "    roc = sk_m.roc_auc_score(y_score=scores, y_true=labels)\n",
        "    return f1, roc\n",
        "\n",
        "def BCELoss_class_weighted(weights):\n",
        "\n",
        "    def loss(input, target):\n",
        "        input = torch.clamp(input,min=1e-7,max=1-1e-7)\n",
        "        bce = - weights[1] * target * torch.log(input) - (1 - target) * weights[0] * torch.log(1 - input)\n",
        "        return torch.mean(bce)\n",
        "\n",
        "    return loss\n",
        "\n",
        "def train(train_generator, val_generator, model, \n",
        "          epochs=10, lr=1e-3, weight_decay=1e-5,\n",
        "          class_weights=None,\n",
        "          use_edge_feature=False, shuffle=False, early_stopping=None):\n",
        "    \n",
        "    optimizer = torch.optim.Adam(model.parameters(), lr=lr, weight_decay=weight_decay)\n",
        "    \n",
        "    loss_func = BCELoss_class_weighted(class_weights)\n",
        "    \n",
        "    if not (class_weights is None):\n",
        "        class_weights = torch.FloatTensor(class_weights)\n",
        "        loss_func = BCELoss_class_weighted(class_weights)\n",
        "    else:\n",
        "        loss_func = F.binary_cross_entropy\n",
        "\n",
        "    \n",
        "    for e in range(epochs):\n",
        "        train_scores = []\n",
        "        train_labels = []\n",
        "        loss_train_holder = []\n",
        "        \n",
        "        val_scores = []\n",
        "        val_loss_holder = []\n",
        "        val_labels = []\n",
        "        \n",
        "        for train_graph, label in tqdm(train_generator):\n",
        "            if use_edge_feature:\n",
        "                logits_train = model(train_graph, train_graph.ndata['feat'],\\\n",
        "                                     train_graph.edata['feat'])\n",
        "            else:\n",
        "                logits_train = model(train_graph, train_graph.ndata['feat'])\n",
        "            sigmoided_train = F.sigmoid(logits_train)\n",
        "            loss_train = loss_func(sigmoided_train, label)\n",
        "            \n",
        "            # Backward\n",
        "            optimizer.zero_grad()\n",
        "            loss_train.backward()\n",
        "            optimizer.step()\n",
        "        \n",
        "            train_labels.append(label.cpu().numpy())\n",
        "            train_scores.append(sigmoided_train.cpu().detach().numpy())\n",
        "            loss_train_holder.append(loss_train.cpu().detach().numpy())\n",
        "            \n",
        "        \n",
        "        with torch.no_grad():  \n",
        "            for val_graph, val_label in val_generator:\n",
        "                \n",
        "                if use_edge_feature:\n",
        "                    logits_val = model(val_graph, val_graph.ndata['feat'], \\\n",
        "                                   val_graph.edata['feat'], train_mode=False)\n",
        "                else:\n",
        "                    logits_val = model(val_graph, val_graph.ndata['feat'], train_mode=False)\n",
        "                    \n",
        "                sigmoided_val = F.sigmoid(logits_val)\n",
        "                \n",
        "                loss_val = loss_func(sigmoided_val, val_label)\n",
        "                \n",
        "                \n",
        "                val_labels.append(val_label.cpu().numpy())\n",
        "                val_scores.append(sigmoided_val.cpu().detach().numpy())\n",
        "                val_loss_holder.append(loss_val.cpu())\n",
        "            \n",
        "        train_f1, train_roc = metrics(train_labels, train_scores)\n",
        "        val_f1, val_roc = metrics(val_labels, val_scores)\n",
        "        \n",
        "\n",
        "        print('In epoch {}, Train loss: {:.3f}, train roc: {:.3f}, train f1: {:.3f},'\n",
        "              ' val loss: {:.3f}, val roc: {:.3f}, val f1 : {:.3f}'.format(\n",
        "            e, np.mean(loss_train_holder), train_roc, train_f1, np.mean(val_loss_holder), \\\n",
        "        val_roc, val_f1))\n",
        "        \n",
        "        if early_stopping:\n",
        "            early_stopping(val_roc, deepcopy(model))\n",
        "            print('Early stopping extemum : {}'.format(early_stopping.extemum_value))\n",
        "            if early_stopping.early_stop:\n",
        "                print('Stopping early')\n",
        "                model = early_stopping.best_model\n",
        "                break\n",
        "        \n",
        "        if shuffle:\n",
        "            train_generator.shuffle_indices()\n",
        "            \n",
        "            \n",
        "    return model"
      ]
    },
    {
      "cell_type": "code",
      "execution_count": 22,
      "id": "6af20d35",
      "metadata": {
        "id": "6af20d35"
      },
      "outputs": [],
      "source": [
        "import operator"
      ]
    },
    {
      "cell_type": "code",
      "execution_count": 23,
      "id": "2032fa38",
      "metadata": {
        "id": "2032fa38"
      },
      "outputs": [],
      "source": [
        "class EarlyStopping:\n",
        "    def __init__(self, tolerance=5, mode='min'):\n",
        "        assert mode in ['min','max'], 'Mode should be min or max'\n",
        "        self.mode = operator.lt if mode=='min' else operator.gt \n",
        "        self.tolerance = tolerance\n",
        "        self.counter = 0\n",
        "        self.early_stop = False\n",
        "        self.extemum_value = None\n",
        "        self.best_model = None\n",
        "        \n",
        "        \n",
        "    def __call__(self, val, model):\n",
        "        if self.extemum_value is None:\n",
        "            self.extemum_value = val\n",
        "            self.best_model = model\n",
        "        else:\n",
        "            if not self.mode(val, self.extemum_value):\n",
        "                self.counter+=1\n",
        "            else:\n",
        "                self.extemum_value = val\n",
        "                self.best_model = model\n",
        "                self.counter = 0\n",
        "        \n",
        "        if self.counter==self.tolerance:\n",
        "            self.early_stop=True"
      ]
    },
    {
      "cell_type": "code",
      "execution_count": 24,
      "id": "64097f49",
      "metadata": {
        "id": "64097f49"
      },
      "outputs": [],
      "source": [
        "from dgl.nn import GraphConv\n",
        "from dgl.nn.pytorch.conv import EdgeWeightNorm\n",
        "from ogb.graphproppred.mol_encoder import AtomEncoder, BondEncoder\n",
        "\n",
        "class GraphModel(nn.Module):\n",
        "    def __init__(self, emb_shape=100):\n",
        "        set_seed(0)\n",
        "        super(GraphModel, self).__init__()\n",
        "        self.emb = AtomEncoder(emb_shape)\n",
        "        self.node_conv1 = GraphConv(emb_shape, 256, allow_zero_in_degree=True)\n",
        "        self.node_conv2 = SAGEConv(256, 128, 'lstm')\n",
        "        self.node_conv3 = SAGEConv(128, 64, 'mean')\n",
        "        self.node_conv4 = SAGEConv(64, 1, 'mean')\n",
        "        self.dropout1 = torch.nn.Dropout(0.25)\n",
        "\n",
        "        \n",
        "    def forward(self, g, n_data, train_mode=True):\n",
        "        h_nodes = self.emb(n_data)\n",
        "        h_nodes = self.node_conv1(g, h_nodes)\n",
        "        h_nodes = F.relu(h_nodes)\n",
        "        h_nodes = self.node_conv2(g, h_nodes)\n",
        "        if train_mode:\n",
        "          h_nodes = self.dropout1(h_nodes)\n",
        "        h_nodes = F.relu(h_nodes)\n",
        "        h_nodes = self.node_conv3(g, h_nodes)\n",
        "        h_nodes = F.relu(h_nodes)\n",
        "        h_nodes = self.node_conv4(g, h_nodes)\n",
        "        g.ndata['h'] = h_nodes\n",
        "        h_nodes = dgl.mean_nodes(g, 'h')\n",
        "        return h_nodes\n"
      ]
    },
    {
      "cell_type": "code",
      "execution_count": 25,
      "id": "ca06307a",
      "metadata": {
        "colab": {
          "base_uri": "https://localhost:8080/"
        },
        "id": "ca06307a",
        "outputId": "4e09fb1d-930d-4f42-fa65-b8b157c8a9ca"
      },
      "outputs": [
        {
          "output_type": "stream",
          "name": "stdout",
          "text": [
            "Random seed set as 0\n"
          ]
        }
      ],
      "source": [
        "model = GraphModel(100)\n",
        "model.to(device)\n",
        "batch_size = 64\n",
        "balanced_sampling = False\n",
        "use_edge_feature = False\n",
        "early_stopping = EarlyStopping(tolerance=10, mode='max')"
      ]
    },
    {
      "cell_type": "code",
      "execution_count": 26,
      "id": "948a53bb",
      "metadata": {
        "id": "948a53bb"
      },
      "outputs": [],
      "source": [
        "train_generator = CustomGraphDataGenerator(train_graphs, train_labels,device=device, batch_size=batch_size,\n",
        "                                          balanced_sampling=balanced_sampling)\n",
        "valid_generator = CustomGraphDataGenerator(val_graphs, valid_labels, device=device, batch_size=batch_size,\n",
        "                                          balanced_sampling=balanced_sampling)"
      ]
    },
    {
      "cell_type": "code",
      "execution_count": 27,
      "id": "7e8972aa",
      "metadata": {
        "colab": {
          "base_uri": "https://localhost:8080/"
        },
        "id": "7e8972aa",
        "outputId": "55913bc1-3adc-4d87-e915-9feadea275cf"
      },
      "outputs": [
        {
          "output_type": "stream",
          "name": "stderr",
          "text": [
            "  0%|          | 0/515 [00:00<?, ?it/s]/usr/local/lib/python3.7/dist-packages/torch/nn/functional.py:1960: UserWarning: nn.functional.sigmoid is deprecated. Use torch.sigmoid instead.\n",
            "  warnings.warn(\"nn.functional.sigmoid is deprecated. Use torch.sigmoid instead.\")\n",
            "100%|█████████▉| 514/515 [00:11<00:00, 46.00it/s]\n"
          ]
        },
        {
          "output_type": "stream",
          "name": "stdout",
          "text": [
            "In epoch 0, Train loss: 0.677, train roc: 0.624, train f1: 0.097, val loss: 0.927, val roc: 0.693, val f1 : 0.039\n",
            "Early stopping extemum : 0.6929046938179357\n"
          ]
        },
        {
          "output_type": "stream",
          "name": "stderr",
          "text": [
            "  0%|          | 0/515 [00:00<?, ?it/s]/usr/local/lib/python3.7/dist-packages/torch/nn/functional.py:1960: UserWarning: nn.functional.sigmoid is deprecated. Use torch.sigmoid instead.\n",
            "  warnings.warn(\"nn.functional.sigmoid is deprecated. Use torch.sigmoid instead.\")\n",
            "100%|█████████▉| 514/515 [00:10<00:00, 49.66it/s]\n"
          ]
        },
        {
          "output_type": "stream",
          "name": "stdout",
          "text": [
            "In epoch 1, Train loss: 0.657, train roc: 0.657, train f1: 0.119, val loss: 0.881, val roc: 0.717, val f1 : 0.039\n",
            "Early stopping extemum : 0.717445382285565\n"
          ]
        },
        {
          "output_type": "stream",
          "name": "stderr",
          "text": [
            "  0%|          | 0/515 [00:00<?, ?it/s]/usr/local/lib/python3.7/dist-packages/torch/nn/functional.py:1960: UserWarning: nn.functional.sigmoid is deprecated. Use torch.sigmoid instead.\n",
            "  warnings.warn(\"nn.functional.sigmoid is deprecated. Use torch.sigmoid instead.\")\n",
            "100%|█████████▉| 514/515 [00:10<00:00, 49.50it/s]\n"
          ]
        },
        {
          "output_type": "stream",
          "name": "stdout",
          "text": [
            "In epoch 2, Train loss: 0.644, train roc: 0.676, train f1: 0.124, val loss: 0.816, val roc: 0.698, val f1 : 0.039\n",
            "Early stopping extemum : 0.717445382285565\n"
          ]
        },
        {
          "output_type": "stream",
          "name": "stderr",
          "text": [
            "  0%|          | 0/515 [00:00<?, ?it/s]/usr/local/lib/python3.7/dist-packages/torch/nn/functional.py:1960: UserWarning: nn.functional.sigmoid is deprecated. Use torch.sigmoid instead.\n",
            "  warnings.warn(\"nn.functional.sigmoid is deprecated. Use torch.sigmoid instead.\")\n",
            "100%|█████████▉| 514/515 [00:10<00:00, 49.44it/s]\n"
          ]
        },
        {
          "output_type": "stream",
          "name": "stdout",
          "text": [
            "In epoch 3, Train loss: 0.640, train roc: 0.684, train f1: 0.129, val loss: 0.773, val roc: 0.720, val f1 : 0.040\n",
            "Early stopping extemum : 0.7195609058622757\n"
          ]
        },
        {
          "output_type": "stream",
          "name": "stderr",
          "text": [
            "  0%|          | 0/515 [00:00<?, ?it/s]/usr/local/lib/python3.7/dist-packages/torch/nn/functional.py:1960: UserWarning: nn.functional.sigmoid is deprecated. Use torch.sigmoid instead.\n",
            "  warnings.warn(\"nn.functional.sigmoid is deprecated. Use torch.sigmoid instead.\")\n",
            "100%|█████████▉| 514/515 [00:10<00:00, 49.87it/s]\n"
          ]
        },
        {
          "output_type": "stream",
          "name": "stdout",
          "text": [
            "In epoch 4, Train loss: 0.624, train roc: 0.703, train f1: 0.131, val loss: 0.779, val roc: 0.723, val f1 : 0.041\n",
            "Early stopping extemum : 0.7233245698999123\n"
          ]
        },
        {
          "output_type": "stream",
          "name": "stderr",
          "text": [
            "  0%|          | 0/515 [00:00<?, ?it/s]/usr/local/lib/python3.7/dist-packages/torch/nn/functional.py:1960: UserWarning: nn.functional.sigmoid is deprecated. Use torch.sigmoid instead.\n",
            "  warnings.warn(\"nn.functional.sigmoid is deprecated. Use torch.sigmoid instead.\")\n",
            "100%|█████████▉| 514/515 [00:10<00:00, 47.74it/s]\n"
          ]
        },
        {
          "output_type": "stream",
          "name": "stdout",
          "text": [
            "In epoch 5, Train loss: 0.613, train roc: 0.718, train f1: 0.141, val loss: 0.759, val roc: 0.731, val f1 : 0.042\n",
            "Early stopping extemum : 0.731120950755654\n"
          ]
        },
        {
          "output_type": "stream",
          "name": "stderr",
          "text": [
            "  0%|          | 0/515 [00:00<?, ?it/s]/usr/local/lib/python3.7/dist-packages/torch/nn/functional.py:1960: UserWarning: nn.functional.sigmoid is deprecated. Use torch.sigmoid instead.\n",
            "  warnings.warn(\"nn.functional.sigmoid is deprecated. Use torch.sigmoid instead.\")\n",
            "100%|█████████▉| 514/515 [00:11<00:00, 45.69it/s]\n"
          ]
        },
        {
          "output_type": "stream",
          "name": "stdout",
          "text": [
            "In epoch 6, Train loss: 0.602, train roc: 0.736, train f1: 0.152, val loss: 0.741, val roc: 0.749, val f1 : 0.043\n",
            "Early stopping extemum : 0.7490982888243163\n"
          ]
        },
        {
          "output_type": "stream",
          "name": "stderr",
          "text": [
            "  0%|          | 0/515 [00:00<?, ?it/s]/usr/local/lib/python3.7/dist-packages/torch/nn/functional.py:1960: UserWarning: nn.functional.sigmoid is deprecated. Use torch.sigmoid instead.\n",
            "  warnings.warn(\"nn.functional.sigmoid is deprecated. Use torch.sigmoid instead.\")\n",
            "100%|█████████▉| 514/515 [00:10<00:00, 49.22it/s]\n"
          ]
        },
        {
          "output_type": "stream",
          "name": "stdout",
          "text": [
            "In epoch 7, Train loss: 0.592, train roc: 0.746, train f1: 0.158, val loss: 0.709, val roc: 0.750, val f1 : 0.046\n",
            "Early stopping extemum : 0.7495041741617086\n"
          ]
        },
        {
          "output_type": "stream",
          "name": "stderr",
          "text": [
            "  0%|          | 0/515 [00:00<?, ?it/s]/usr/local/lib/python3.7/dist-packages/torch/nn/functional.py:1960: UserWarning: nn.functional.sigmoid is deprecated. Use torch.sigmoid instead.\n",
            "  warnings.warn(\"nn.functional.sigmoid is deprecated. Use torch.sigmoid instead.\")\n",
            "100%|█████████▉| 514/515 [00:10<00:00, 49.17it/s]\n"
          ]
        },
        {
          "output_type": "stream",
          "name": "stdout",
          "text": [
            "In epoch 8, Train loss: 0.579, train roc: 0.761, train f1: 0.168, val loss: 0.677, val roc: 0.763, val f1 : 0.046\n",
            "Early stopping extemum : 0.7632489276324892\n"
          ]
        },
        {
          "output_type": "stream",
          "name": "stderr",
          "text": [
            "  0%|          | 0/515 [00:00<?, ?it/s]/usr/local/lib/python3.7/dist-packages/torch/nn/functional.py:1960: UserWarning: nn.functional.sigmoid is deprecated. Use torch.sigmoid instead.\n",
            "  warnings.warn(\"nn.functional.sigmoid is deprecated. Use torch.sigmoid instead.\")\n",
            "100%|█████████▉| 514/515 [00:10<00:00, 46.76it/s]\n"
          ]
        },
        {
          "output_type": "stream",
          "name": "stdout",
          "text": [
            "In epoch 9, Train loss: 0.567, train roc: 0.772, train f1: 0.179, val loss: 0.615, val roc: 0.769, val f1 : 0.049\n",
            "Early stopping extemum : 0.7685346616853466\n"
          ]
        },
        {
          "output_type": "stream",
          "name": "stderr",
          "text": [
            "  0%|          | 0/515 [00:00<?, ?it/s]/usr/local/lib/python3.7/dist-packages/torch/nn/functional.py:1960: UserWarning: nn.functional.sigmoid is deprecated. Use torch.sigmoid instead.\n",
            "  warnings.warn(\"nn.functional.sigmoid is deprecated. Use torch.sigmoid instead.\")\n",
            "100%|█████████▉| 514/515 [00:10<00:00, 48.96it/s]\n"
          ]
        },
        {
          "output_type": "stream",
          "name": "stdout",
          "text": [
            "In epoch 10, Train loss: 0.558, train roc: 0.779, train f1: 0.187, val loss: 0.629, val roc: 0.758, val f1 : 0.048\n",
            "Early stopping extemum : 0.7685346616853466\n"
          ]
        },
        {
          "output_type": "stream",
          "name": "stderr",
          "text": [
            "  0%|          | 0/515 [00:00<?, ?it/s]/usr/local/lib/python3.7/dist-packages/torch/nn/functional.py:1960: UserWarning: nn.functional.sigmoid is deprecated. Use torch.sigmoid instead.\n",
            "  warnings.warn(\"nn.functional.sigmoid is deprecated. Use torch.sigmoid instead.\")\n",
            "100%|█████████▉| 514/515 [00:10<00:00, 48.50it/s]\n"
          ]
        },
        {
          "output_type": "stream",
          "name": "stdout",
          "text": [
            "In epoch 11, Train loss: 0.542, train roc: 0.796, train f1: 0.204, val loss: 0.633, val roc: 0.763, val f1 : 0.050\n",
            "Early stopping extemum : 0.7685346616853466\n"
          ]
        },
        {
          "output_type": "stream",
          "name": "stderr",
          "text": [
            "  0%|          | 0/515 [00:00<?, ?it/s]/usr/local/lib/python3.7/dist-packages/torch/nn/functional.py:1960: UserWarning: nn.functional.sigmoid is deprecated. Use torch.sigmoid instead.\n",
            "  warnings.warn(\"nn.functional.sigmoid is deprecated. Use torch.sigmoid instead.\")\n",
            "100%|█████████▉| 514/515 [00:10<00:00, 48.93it/s]\n"
          ]
        },
        {
          "output_type": "stream",
          "name": "stdout",
          "text": [
            "In epoch 12, Train loss: 0.528, train roc: 0.811, train f1: 0.211, val loss: 0.643, val roc: 0.759, val f1 : 0.050\n",
            "Early stopping extemum : 0.7685346616853466\n"
          ]
        },
        {
          "output_type": "stream",
          "name": "stderr",
          "text": [
            "  0%|          | 0/515 [00:00<?, ?it/s]/usr/local/lib/python3.7/dist-packages/torch/nn/functional.py:1960: UserWarning: nn.functional.sigmoid is deprecated. Use torch.sigmoid instead.\n",
            "  warnings.warn(\"nn.functional.sigmoid is deprecated. Use torch.sigmoid instead.\")\n",
            "100%|█████████▉| 514/515 [00:10<00:00, 49.92it/s]\n"
          ]
        },
        {
          "output_type": "stream",
          "name": "stdout",
          "text": [
            "In epoch 13, Train loss: 0.508, train roc: 0.828, train f1: 0.225, val loss: 0.611, val roc: 0.756, val f1 : 0.051\n",
            "Early stopping extemum : 0.7685346616853466\n"
          ]
        },
        {
          "output_type": "stream",
          "name": "stderr",
          "text": [
            "  0%|          | 0/515 [00:00<?, ?it/s]/usr/local/lib/python3.7/dist-packages/torch/nn/functional.py:1960: UserWarning: nn.functional.sigmoid is deprecated. Use torch.sigmoid instead.\n",
            "  warnings.warn(\"nn.functional.sigmoid is deprecated. Use torch.sigmoid instead.\")\n",
            "100%|█████████▉| 514/515 [00:10<00:00, 49.71it/s]\n"
          ]
        },
        {
          "output_type": "stream",
          "name": "stdout",
          "text": [
            "In epoch 14, Train loss: 0.491, train roc: 0.841, train f1: 0.236, val loss: 0.587, val roc: 0.759, val f1 : 0.056\n",
            "Early stopping extemum : 0.7685346616853466\n"
          ]
        },
        {
          "output_type": "stream",
          "name": "stderr",
          "text": [
            "  0%|          | 0/515 [00:00<?, ?it/s]/usr/local/lib/python3.7/dist-packages/torch/nn/functional.py:1960: UserWarning: nn.functional.sigmoid is deprecated. Use torch.sigmoid instead.\n",
            "  warnings.warn(\"nn.functional.sigmoid is deprecated. Use torch.sigmoid instead.\")\n",
            "100%|█████████▉| 514/515 [00:10<00:00, 48.18it/s]\n"
          ]
        },
        {
          "output_type": "stream",
          "name": "stdout",
          "text": [
            "In epoch 15, Train loss: 0.475, train roc: 0.855, train f1: 0.249, val loss: 0.589, val roc: 0.762, val f1 : 0.056\n",
            "Early stopping extemum : 0.7685346616853466\n"
          ]
        },
        {
          "output_type": "stream",
          "name": "stderr",
          "text": [
            "  0%|          | 0/515 [00:00<?, ?it/s]/usr/local/lib/python3.7/dist-packages/torch/nn/functional.py:1960: UserWarning: nn.functional.sigmoid is deprecated. Use torch.sigmoid instead.\n",
            "  warnings.warn(\"nn.functional.sigmoid is deprecated. Use torch.sigmoid instead.\")\n",
            "100%|█████████▉| 514/515 [00:10<00:00, 49.36it/s]\n"
          ]
        },
        {
          "output_type": "stream",
          "name": "stdout",
          "text": [
            "In epoch 16, Train loss: 0.459, train roc: 0.866, train f1: 0.258, val loss: 0.534, val roc: 0.762, val f1 : 0.068\n",
            "Early stopping extemum : 0.7685346616853466\n"
          ]
        },
        {
          "output_type": "stream",
          "name": "stderr",
          "text": [
            "  0%|          | 0/515 [00:00<?, ?it/s]/usr/local/lib/python3.7/dist-packages/torch/nn/functional.py:1960: UserWarning: nn.functional.sigmoid is deprecated. Use torch.sigmoid instead.\n",
            "  warnings.warn(\"nn.functional.sigmoid is deprecated. Use torch.sigmoid instead.\")\n",
            "100%|█████████▉| 514/515 [00:10<00:00, 48.81it/s]\n"
          ]
        },
        {
          "output_type": "stream",
          "name": "stdout",
          "text": [
            "In epoch 17, Train loss: 0.441, train roc: 0.878, train f1: 0.271, val loss: 0.561, val roc: 0.766, val f1 : 0.068\n",
            "Early stopping extemum : 0.7685346616853466\n"
          ]
        },
        {
          "output_type": "stream",
          "name": "stderr",
          "text": [
            "  0%|          | 0/515 [00:00<?, ?it/s]/usr/local/lib/python3.7/dist-packages/torch/nn/functional.py:1960: UserWarning: nn.functional.sigmoid is deprecated. Use torch.sigmoid instead.\n",
            "  warnings.warn(\"nn.functional.sigmoid is deprecated. Use torch.sigmoid instead.\")\n",
            "100%|█████████▉| 514/515 [00:11<00:00, 46.51it/s]\n"
          ]
        },
        {
          "output_type": "stream",
          "name": "stdout",
          "text": [
            "In epoch 18, Train loss: 0.425, train roc: 0.888, train f1: 0.278, val loss: 0.562, val roc: 0.751, val f1 : 0.068\n",
            "Early stopping extemum : 0.7685346616853466\n"
          ]
        },
        {
          "output_type": "stream",
          "name": "stderr",
          "text": [
            "  0%|          | 0/515 [00:00<?, ?it/s]/usr/local/lib/python3.7/dist-packages/torch/nn/functional.py:1960: UserWarning: nn.functional.sigmoid is deprecated. Use torch.sigmoid instead.\n",
            "  warnings.warn(\"nn.functional.sigmoid is deprecated. Use torch.sigmoid instead.\")\n",
            "100%|█████████▉| 514/515 [00:10<00:00, 49.73it/s]\n"
          ]
        },
        {
          "output_type": "stream",
          "name": "stdout",
          "text": [
            "In epoch 19, Train loss: 0.407, train roc: 0.899, train f1: 0.291, val loss: 0.539, val roc: 0.769, val f1 : 0.076\n",
            "Early stopping extemum : 0.7691896130252295\n"
          ]
        },
        {
          "output_type": "stream",
          "name": "stderr",
          "text": [
            "  0%|          | 0/515 [00:00<?, ?it/s]/usr/local/lib/python3.7/dist-packages/torch/nn/functional.py:1960: UserWarning: nn.functional.sigmoid is deprecated. Use torch.sigmoid instead.\n",
            "  warnings.warn(\"nn.functional.sigmoid is deprecated. Use torch.sigmoid instead.\")\n",
            "100%|█████████▉| 514/515 [00:10<00:00, 49.51it/s]\n"
          ]
        },
        {
          "output_type": "stream",
          "name": "stdout",
          "text": [
            "In epoch 20, Train loss: 0.388, train roc: 0.909, train f1: 0.305, val loss: 0.525, val roc: 0.759, val f1 : 0.075\n",
            "Early stopping extemum : 0.7691896130252295\n"
          ]
        },
        {
          "output_type": "stream",
          "name": "stderr",
          "text": [
            "  0%|          | 0/515 [00:00<?, ?it/s]/usr/local/lib/python3.7/dist-packages/torch/nn/functional.py:1960: UserWarning: nn.functional.sigmoid is deprecated. Use torch.sigmoid instead.\n",
            "  warnings.warn(\"nn.functional.sigmoid is deprecated. Use torch.sigmoid instead.\")\n",
            "100%|█████████▉| 514/515 [00:11<00:00, 46.66it/s]\n"
          ]
        },
        {
          "output_type": "stream",
          "name": "stdout",
          "text": [
            "In epoch 21, Train loss: 0.381, train roc: 0.914, train f1: 0.305, val loss: 0.498, val roc: 0.760, val f1 : 0.084\n",
            "Early stopping extemum : 0.7691896130252295\n"
          ]
        },
        {
          "output_type": "stream",
          "name": "stderr",
          "text": [
            "  0%|          | 0/515 [00:00<?, ?it/s]/usr/local/lib/python3.7/dist-packages/torch/nn/functional.py:1960: UserWarning: nn.functional.sigmoid is deprecated. Use torch.sigmoid instead.\n",
            "  warnings.warn(\"nn.functional.sigmoid is deprecated. Use torch.sigmoid instead.\")\n",
            "100%|█████████▉| 514/515 [00:10<00:00, 47.85it/s]\n"
          ]
        },
        {
          "output_type": "stream",
          "name": "stdout",
          "text": [
            "In epoch 22, Train loss: 0.357, train roc: 0.924, train f1: 0.327, val loss: 0.491, val roc: 0.757, val f1 : 0.094\n",
            "Early stopping extemum : 0.7691896130252295\n"
          ]
        },
        {
          "output_type": "stream",
          "name": "stderr",
          "text": [
            "  0%|          | 0/515 [00:00<?, ?it/s]/usr/local/lib/python3.7/dist-packages/torch/nn/functional.py:1960: UserWarning: nn.functional.sigmoid is deprecated. Use torch.sigmoid instead.\n",
            "  warnings.warn(\"nn.functional.sigmoid is deprecated. Use torch.sigmoid instead.\")\n",
            "100%|█████████▉| 514/515 [00:10<00:00, 47.63it/s]\n"
          ]
        },
        {
          "output_type": "stream",
          "name": "stdout",
          "text": [
            "In epoch 23, Train loss: 0.330, train roc: 0.936, train f1: 0.350, val loss: 0.512, val roc: 0.771, val f1 : 0.093\n",
            "Early stopping extemum : 0.7711083437110835\n"
          ]
        },
        {
          "output_type": "stream",
          "name": "stderr",
          "text": [
            "  0%|          | 0/515 [00:00<?, ?it/s]/usr/local/lib/python3.7/dist-packages/torch/nn/functional.py:1960: UserWarning: nn.functional.sigmoid is deprecated. Use torch.sigmoid instead.\n",
            "  warnings.warn(\"nn.functional.sigmoid is deprecated. Use torch.sigmoid instead.\")\n",
            "100%|█████████▉| 514/515 [00:10<00:00, 49.44it/s]\n"
          ]
        },
        {
          "output_type": "stream",
          "name": "stdout",
          "text": [
            "In epoch 24, Train loss: 0.313, train roc: 0.943, train f1: 0.362, val loss: 0.541, val roc: 0.764, val f1 : 0.096\n",
            "Early stopping extemum : 0.7711083437110835\n"
          ]
        },
        {
          "output_type": "stream",
          "name": "stderr",
          "text": [
            "  0%|          | 0/515 [00:00<?, ?it/s]/usr/local/lib/python3.7/dist-packages/torch/nn/functional.py:1960: UserWarning: nn.functional.sigmoid is deprecated. Use torch.sigmoid instead.\n",
            "  warnings.warn(\"nn.functional.sigmoid is deprecated. Use torch.sigmoid instead.\")\n",
            "100%|█████████▉| 514/515 [00:10<00:00, 49.89it/s]\n"
          ]
        },
        {
          "output_type": "stream",
          "name": "stdout",
          "text": [
            "In epoch 25, Train loss: 0.308, train roc: 0.945, train f1: 0.364, val loss: 0.526, val roc: 0.777, val f1 : 0.115\n",
            "Early stopping extemum : 0.7768983595467613\n"
          ]
        },
        {
          "output_type": "stream",
          "name": "stderr",
          "text": [
            "  0%|          | 0/515 [00:00<?, ?it/s]/usr/local/lib/python3.7/dist-packages/torch/nn/functional.py:1960: UserWarning: nn.functional.sigmoid is deprecated. Use torch.sigmoid instead.\n",
            "  warnings.warn(\"nn.functional.sigmoid is deprecated. Use torch.sigmoid instead.\")\n",
            "100%|█████████▉| 514/515 [00:10<00:00, 49.84it/s]\n"
          ]
        },
        {
          "output_type": "stream",
          "name": "stdout",
          "text": [
            "In epoch 26, Train loss: 0.292, train roc: 0.951, train f1: 0.373, val loss: 0.563, val roc: 0.758, val f1 : 0.138\n",
            "Early stopping extemum : 0.7768983595467613\n"
          ]
        },
        {
          "output_type": "stream",
          "name": "stderr",
          "text": [
            "  0%|          | 0/515 [00:00<?, ?it/s]/usr/local/lib/python3.7/dist-packages/torch/nn/functional.py:1960: UserWarning: nn.functional.sigmoid is deprecated. Use torch.sigmoid instead.\n",
            "  warnings.warn(\"nn.functional.sigmoid is deprecated. Use torch.sigmoid instead.\")\n",
            "100%|█████████▉| 514/515 [00:11<00:00, 46.68it/s]\n"
          ]
        },
        {
          "output_type": "stream",
          "name": "stdout",
          "text": [
            "In epoch 27, Train loss: 0.276, train roc: 0.956, train f1: 0.386, val loss: 0.559, val roc: 0.753, val f1 : 0.119\n",
            "Early stopping extemum : 0.7768983595467613\n"
          ]
        },
        {
          "output_type": "stream",
          "name": "stderr",
          "text": [
            "  0%|          | 0/515 [00:00<?, ?it/s]/usr/local/lib/python3.7/dist-packages/torch/nn/functional.py:1960: UserWarning: nn.functional.sigmoid is deprecated. Use torch.sigmoid instead.\n",
            "  warnings.warn(\"nn.functional.sigmoid is deprecated. Use torch.sigmoid instead.\")\n",
            "100%|█████████▉| 514/515 [00:10<00:00, 49.36it/s]\n"
          ]
        },
        {
          "output_type": "stream",
          "name": "stdout",
          "text": [
            "In epoch 28, Train loss: 0.256, train roc: 0.962, train f1: 0.412, val loss: 0.551, val roc: 0.755, val f1 : 0.112\n",
            "Early stopping extemum : 0.7768983595467613\n"
          ]
        },
        {
          "output_type": "stream",
          "name": "stderr",
          "text": [
            "  0%|          | 0/515 [00:00<?, ?it/s]/usr/local/lib/python3.7/dist-packages/torch/nn/functional.py:1960: UserWarning: nn.functional.sigmoid is deprecated. Use torch.sigmoid instead.\n",
            "  warnings.warn(\"nn.functional.sigmoid is deprecated. Use torch.sigmoid instead.\")\n",
            "100%|█████████▉| 514/515 [00:10<00:00, 49.15it/s]\n"
          ]
        },
        {
          "output_type": "stream",
          "name": "stdout",
          "text": [
            "In epoch 29, Train loss: 0.257, train roc: 0.962, train f1: 0.408, val loss: 0.561, val roc: 0.775, val f1 : 0.125\n",
            "Early stopping extemum : 0.7768983595467613\n"
          ]
        },
        {
          "output_type": "stream",
          "name": "stderr",
          "text": [
            "  0%|          | 0/515 [00:00<?, ?it/s]/usr/local/lib/python3.7/dist-packages/torch/nn/functional.py:1960: UserWarning: nn.functional.sigmoid is deprecated. Use torch.sigmoid instead.\n",
            "  warnings.warn(\"nn.functional.sigmoid is deprecated. Use torch.sigmoid instead.\")\n",
            "100%|█████████▉| 514/515 [00:10<00:00, 49.81it/s]\n"
          ]
        },
        {
          "output_type": "stream",
          "name": "stdout",
          "text": [
            "In epoch 30, Train loss: 0.248, train roc: 0.965, train f1: 0.422, val loss: 0.581, val roc: 0.767, val f1 : 0.154\n",
            "Early stopping extemum : 0.7768983595467613\n"
          ]
        },
        {
          "output_type": "stream",
          "name": "stderr",
          "text": [
            "  0%|          | 0/515 [00:00<?, ?it/s]/usr/local/lib/python3.7/dist-packages/torch/nn/functional.py:1960: UserWarning: nn.functional.sigmoid is deprecated. Use torch.sigmoid instead.\n",
            "  warnings.warn(\"nn.functional.sigmoid is deprecated. Use torch.sigmoid instead.\")\n",
            "100%|█████████▉| 514/515 [00:10<00:00, 49.51it/s]\n"
          ]
        },
        {
          "output_type": "stream",
          "name": "stdout",
          "text": [
            "In epoch 31, Train loss: 0.252, train roc: 0.963, train f1: 0.413, val loss: 0.534, val roc: 0.781, val f1 : 0.138\n",
            "Early stopping extemum : 0.7810494595882723\n"
          ]
        },
        {
          "output_type": "stream",
          "name": "stderr",
          "text": [
            "  0%|          | 0/515 [00:00<?, ?it/s]/usr/local/lib/python3.7/dist-packages/torch/nn/functional.py:1960: UserWarning: nn.functional.sigmoid is deprecated. Use torch.sigmoid instead.\n",
            "  warnings.warn(\"nn.functional.sigmoid is deprecated. Use torch.sigmoid instead.\")\n",
            "100%|█████████▉| 514/515 [00:10<00:00, 49.82it/s]\n"
          ]
        },
        {
          "output_type": "stream",
          "name": "stdout",
          "text": [
            "In epoch 32, Train loss: 0.230, train roc: 0.969, train f1: 0.439, val loss: 0.607, val roc: 0.757, val f1 : 0.131\n",
            "Early stopping extemum : 0.7810494595882723\n"
          ]
        },
        {
          "output_type": "stream",
          "name": "stderr",
          "text": [
            "  0%|          | 0/515 [00:00<?, ?it/s]/usr/local/lib/python3.7/dist-packages/torch/nn/functional.py:1960: UserWarning: nn.functional.sigmoid is deprecated. Use torch.sigmoid instead.\n",
            "  warnings.warn(\"nn.functional.sigmoid is deprecated. Use torch.sigmoid instead.\")\n",
            "100%|█████████▉| 514/515 [00:10<00:00, 50.14it/s]\n"
          ]
        },
        {
          "output_type": "stream",
          "name": "stdout",
          "text": [
            "In epoch 33, Train loss: 0.229, train roc: 0.969, train f1: 0.435, val loss: 0.634, val roc: 0.740, val f1 : 0.106\n",
            "Early stopping extemum : 0.7810494595882723\n"
          ]
        },
        {
          "output_type": "stream",
          "name": "stderr",
          "text": [
            "  0%|          | 0/515 [00:00<?, ?it/s]/usr/local/lib/python3.7/dist-packages/torch/nn/functional.py:1960: UserWarning: nn.functional.sigmoid is deprecated. Use torch.sigmoid instead.\n",
            "  warnings.warn(\"nn.functional.sigmoid is deprecated. Use torch.sigmoid instead.\")\n",
            "100%|█████████▉| 514/515 [00:10<00:00, 50.08it/s]\n"
          ]
        },
        {
          "output_type": "stream",
          "name": "stdout",
          "text": [
            "In epoch 34, Train loss: 0.221, train roc: 0.970, train f1: 0.443, val loss: 0.639, val roc: 0.728, val f1 : 0.093\n",
            "Early stopping extemum : 0.7810494595882723\n"
          ]
        },
        {
          "output_type": "stream",
          "name": "stderr",
          "text": [
            "  0%|          | 0/515 [00:00<?, ?it/s]/usr/local/lib/python3.7/dist-packages/torch/nn/functional.py:1960: UserWarning: nn.functional.sigmoid is deprecated. Use torch.sigmoid instead.\n",
            "  warnings.warn(\"nn.functional.sigmoid is deprecated. Use torch.sigmoid instead.\")\n",
            "100%|█████████▉| 514/515 [00:10<00:00, 49.62it/s]\n"
          ]
        },
        {
          "output_type": "stream",
          "name": "stdout",
          "text": [
            "In epoch 35, Train loss: 0.224, train roc: 0.970, train f1: 0.448, val loss: 0.621, val roc: 0.732, val f1 : 0.122\n",
            "Early stopping extemum : 0.7810494595882723\n"
          ]
        },
        {
          "output_type": "stream",
          "name": "stderr",
          "text": [
            "  0%|          | 0/515 [00:00<?, ?it/s]/usr/local/lib/python3.7/dist-packages/torch/nn/functional.py:1960: UserWarning: nn.functional.sigmoid is deprecated. Use torch.sigmoid instead.\n",
            "  warnings.warn(\"nn.functional.sigmoid is deprecated. Use torch.sigmoid instead.\")\n",
            "100%|█████████▉| 514/515 [00:11<00:00, 46.59it/s]\n"
          ]
        },
        {
          "output_type": "stream",
          "name": "stdout",
          "text": [
            "In epoch 36, Train loss: 0.204, train roc: 0.975, train f1: 0.467, val loss: 0.624, val roc: 0.738, val f1 : 0.135\n",
            "Early stopping extemum : 0.7810494595882723\n"
          ]
        },
        {
          "output_type": "stream",
          "name": "stderr",
          "text": [
            "  0%|          | 0/515 [00:00<?, ?it/s]/usr/local/lib/python3.7/dist-packages/torch/nn/functional.py:1960: UserWarning: nn.functional.sigmoid is deprecated. Use torch.sigmoid instead.\n",
            "  warnings.warn(\"nn.functional.sigmoid is deprecated. Use torch.sigmoid instead.\")\n",
            "100%|█████████▉| 514/515 [00:10<00:00, 49.30it/s]\n"
          ]
        },
        {
          "output_type": "stream",
          "name": "stdout",
          "text": [
            "In epoch 37, Train loss: 0.197, train roc: 0.976, train f1: 0.476, val loss: 0.616, val roc: 0.732, val f1 : 0.106\n",
            "Early stopping extemum : 0.7810494595882723\n"
          ]
        },
        {
          "output_type": "stream",
          "name": "stderr",
          "text": [
            "  0%|          | 0/515 [00:00<?, ?it/s]/usr/local/lib/python3.7/dist-packages/torch/nn/functional.py:1960: UserWarning: nn.functional.sigmoid is deprecated. Use torch.sigmoid instead.\n",
            "  warnings.warn(\"nn.functional.sigmoid is deprecated. Use torch.sigmoid instead.\")\n",
            "100%|█████████▉| 514/515 [00:10<00:00, 48.82it/s]\n"
          ]
        },
        {
          "output_type": "stream",
          "name": "stdout",
          "text": [
            "In epoch 38, Train loss: 0.212, train roc: 0.973, train f1: 0.458, val loss: 0.615, val roc: 0.715, val f1 : 0.107\n",
            "Early stopping extemum : 0.7810494595882723\n"
          ]
        },
        {
          "output_type": "stream",
          "name": "stderr",
          "text": [
            "  0%|          | 0/515 [00:00<?, ?it/s]/usr/local/lib/python3.7/dist-packages/torch/nn/functional.py:1960: UserWarning: nn.functional.sigmoid is deprecated. Use torch.sigmoid instead.\n",
            "  warnings.warn(\"nn.functional.sigmoid is deprecated. Use torch.sigmoid instead.\")\n",
            "100%|█████████▉| 514/515 [00:10<00:00, 49.74it/s]\n"
          ]
        },
        {
          "output_type": "stream",
          "name": "stdout",
          "text": [
            "In epoch 39, Train loss: 0.186, train roc: 0.978, train f1: 0.494, val loss: 0.614, val roc: 0.733, val f1 : 0.097\n",
            "Early stopping extemum : 0.7810494595882723\n"
          ]
        },
        {
          "output_type": "stream",
          "name": "stderr",
          "text": [
            "  0%|          | 0/515 [00:00<?, ?it/s]/usr/local/lib/python3.7/dist-packages/torch/nn/functional.py:1960: UserWarning: nn.functional.sigmoid is deprecated. Use torch.sigmoid instead.\n",
            "  warnings.warn(\"nn.functional.sigmoid is deprecated. Use torch.sigmoid instead.\")\n",
            "100%|█████████▉| 514/515 [00:10<00:00, 49.83it/s]\n"
          ]
        },
        {
          "output_type": "stream",
          "name": "stdout",
          "text": [
            "In epoch 40, Train loss: 0.178, train roc: 0.980, train f1: 0.499, val loss: 0.625, val roc: 0.722, val f1 : 0.123\n",
            "Early stopping extemum : 0.7810494595882723\n"
          ]
        },
        {
          "output_type": "stream",
          "name": "stderr",
          "text": [
            "  0%|          | 0/515 [00:00<?, ?it/s]/usr/local/lib/python3.7/dist-packages/torch/nn/functional.py:1960: UserWarning: nn.functional.sigmoid is deprecated. Use torch.sigmoid instead.\n",
            "  warnings.warn(\"nn.functional.sigmoid is deprecated. Use torch.sigmoid instead.\")\n",
            "100%|█████████▉| 514/515 [00:10<00:00, 50.01it/s]\n"
          ]
        },
        {
          "output_type": "stream",
          "name": "stdout",
          "text": [
            "In epoch 41, Train loss: 0.192, train roc: 0.977, train f1: 0.487, val loss: 0.600, val roc: 0.719, val f1 : 0.107\n",
            "Early stopping extemum : 0.7810494595882723\n",
            "Stopping early\n"
          ]
        }
      ],
      "source": [
        "model = train(train_generator, valid_generator, model, class_weights=class_weights, weight_decay=1e-5,\n",
        "             epochs=100, use_edge_feature=use_edge_feature, \n",
        "             early_stopping=early_stopping)"
      ]
    },
    {
      "cell_type": "markdown",
      "id": "5321890f",
      "metadata": {
        "id": "5321890f"
      },
      "source": [
        "# Evaluation"
      ]
    },
    {
      "cell_type": "code",
      "execution_count": 28,
      "id": "a5324a89",
      "metadata": {
        "colab": {
          "base_uri": "https://localhost:8080/"
        },
        "id": "a5324a89",
        "outputId": "36568027-4d97-44bd-9ac0-6fd799353538"
      },
      "outputs": [
        {
          "output_type": "stream",
          "name": "stderr",
          "text": [
            "/usr/local/lib/python3.7/dist-packages/torch/nn/modules/rnn.py:770: UserWarning: RNN module weights are not part of single contiguous chunk of memory. This means they need to be compacted at every call, possibly greatly increasing memory usage. To compact weights again call flatten_parameters(). (Triggered internally at  ../aten/src/ATen/native/cudnn/RNN.cpp:968.)\n",
            "  self.dropout, self.training, self.bidirectional, self.batch_first)\n",
            "/usr/local/lib/python3.7/dist-packages/torch/nn/functional.py:1960: UserWarning: nn.functional.sigmoid is deprecated. Use torch.sigmoid instead.\n",
            "  warnings.warn(\"nn.functional.sigmoid is deprecated. Use torch.sigmoid instead.\")\n"
          ]
        }
      ],
      "source": [
        "predicted_logits = model(test_graphs_batched.to(device), test_graphs_batched.ndata['feat'].to(device), train_mode=False)\n",
        "predicted = F.sigmoid(predicted_logits).cpu().detach().numpy()"
      ]
    },
    {
      "cell_type": "code",
      "execution_count": 29,
      "id": "2cb76976",
      "metadata": {
        "colab": {
          "base_uri": "https://localhost:8080/"
        },
        "id": "2cb76976",
        "outputId": "6c608a13-abd7-44d4-e6dd-be49c82cd318"
      },
      "outputs": [
        {
          "output_type": "execute_result",
          "data": {
            "text/plain": [
              "{'rocauc': 0.778821529963885}"
            ]
          },
          "metadata": {},
          "execution_count": 29
        }
      ],
      "source": [
        "evaluator.eval({\"y_true\": test_labels, \"y_pred\": predicted})"
      ]
    },
    {
      "cell_type": "markdown",
      "id": "90c728a9",
      "metadata": {
        "id": "90c728a9"
      },
      "source": [
        "# Table with results"
      ]
    },
    {
      "cell_type": "code",
      "source": [
        "!ls"
      ],
      "metadata": {
        "id": "9cYXh5S37UQH",
        "outputId": "dbcf02f6-20bf-4d1e-9b3d-7bc8b18f3e34",
        "colab": {
          "base_uri": "https://localhost:8080/"
        }
      },
      "id": "9cYXh5S37UQH",
      "execution_count": 30,
      "outputs": [
        {
          "output_type": "stream",
          "name": "stdout",
          "text": [
            "dataset  experiments_gcn.csv  sample_data\n"
          ]
        }
      ]
    },
    {
      "cell_type": "code",
      "execution_count": 31,
      "id": "0f32e775",
      "metadata": {
        "colab": {
          "base_uri": "https://localhost:8080/",
          "height": 511
        },
        "id": "0f32e775",
        "outputId": "bc408885-7c63-466b-81e1-1802149e676b"
      },
      "outputs": [
        {
          "output_type": "display_data",
          "data": {
            "text/plain": [
              "                                                                                                                                                                                                                     Approach  \\\n",
              "0                                                                                                                                                              GCN and sageconv;\\nonly raw node features; \\nbatch size: 512;    \n",
              "1                                                                                                                        GCN and sageconv (mean aggregation);\\nonly raw node features; \\nbatch size: 512; imbalanced weights;   \n",
              "2                                                                                                                                                   GCN only;\\nonly raw node features; \\nbatch size: 512; imbalanced weights;   \n",
              "3                                                                                                     GCN and sageconv (lstm+mean agg);;\\nonly raw node features; \\nbatch size: 512; imbalanced weights; \\nl2 no weight decay   \n",
              "4                                                                                                  GCN and sageconv (lstm+mean agg);;\\nonly raw node features; \\nbatch size: 512; imbalanced weights; l2 weight decay (1e-5)    \n",
              "5                                                                 GCN and sageconv (lstm+mean agg);;\\nonly raw node features; \\nbatch size: 512; imbalanced weights; l2 weight decay (1e-5)  + \\nearly stopping (tolerance=3)   \n",
              "6                                                                   GCN and sageconv (lstm+mean agg);;\\nonly raw node features; \\nbatch size: 64; imbalanced weights; l2 weight decay (1e-5) + \\nearly stopping (tolerance=3)   \n",
              "7                                        GCN and sageconv (lstm+mean agg);;\\nembedded node features; \\nbatch size: 64; imbalanced weights; l2 weight decay (1e-5) + \\nearly stopping (tolerance=10); bigger number of epochs;   \n",
              "8  GCN and sageconv (lstm+mean agg);;\\nembedded node features;  embedded edge features as edge_weight\\nbatch size: 64; imbalanced weights; l2 weight decay (1e-5) + \\nearly stopping (tolerance=10); bigger number of epochs;   \n",
              "9           GCN and sageconv (lstm+mean agg);;\\nembedded node features;  embedded edge features in average + \\nconcat and dense\\nbatch size: 64; imbalanced weights; l2 weight decay (1e-5) + \\nearly stopping (tolerance=10)   \n",
              "\n",
              "   Val rocauc Test rocauc  \n",
              "0       0.625       0.625  \n",
              "1       0.672       0.632  \n",
              "2       0.615       0.614  \n",
              "3       0.610        0.65  \n",
              "4       0.600       0.651  \n",
              "5       0.630       0.655  \n",
              "6       0.670        0.66  \n",
              "7       0.781       ~0.77  \n",
              "8       0.500         0.5  \n",
              "9       0.745        0.69  "
            ],
            "text/html": [
              "\n",
              "  <div id=\"df-402daa84-6a28-44db-81ae-d94bc8a47d32\">\n",
              "    <div class=\"colab-df-container\">\n",
              "      <div>\n",
              "<style scoped>\n",
              "    .dataframe tbody tr th:only-of-type {\n",
              "        vertical-align: middle;\n",
              "    }\n",
              "\n",
              "    .dataframe tbody tr th {\n",
              "        vertical-align: top;\n",
              "    }\n",
              "\n",
              "    .dataframe thead th {\n",
              "        text-align: right;\n",
              "    }\n",
              "</style>\n",
              "<table border=\"1\" class=\"dataframe\">\n",
              "  <thead>\n",
              "    <tr style=\"text-align: right;\">\n",
              "      <th></th>\n",
              "      <th>Approach</th>\n",
              "      <th>Val rocauc</th>\n",
              "      <th>Test rocauc</th>\n",
              "    </tr>\n",
              "  </thead>\n",
              "  <tbody>\n",
              "    <tr>\n",
              "      <th>0</th>\n",
              "      <td>GCN and sageconv;\\nonly raw node features; \\nbatch size: 512;</td>\n",
              "      <td>0.625</td>\n",
              "      <td>0.625</td>\n",
              "    </tr>\n",
              "    <tr>\n",
              "      <th>1</th>\n",
              "      <td>GCN and sageconv (mean aggregation);\\nonly raw node features; \\nbatch size: 512; imbalanced weights;</td>\n",
              "      <td>0.672</td>\n",
              "      <td>0.632</td>\n",
              "    </tr>\n",
              "    <tr>\n",
              "      <th>2</th>\n",
              "      <td>GCN only;\\nonly raw node features; \\nbatch size: 512; imbalanced weights;</td>\n",
              "      <td>0.615</td>\n",
              "      <td>0.614</td>\n",
              "    </tr>\n",
              "    <tr>\n",
              "      <th>3</th>\n",
              "      <td>GCN and sageconv (lstm+mean agg);;\\nonly raw node features; \\nbatch size: 512; imbalanced weights; \\nl2 no weight decay</td>\n",
              "      <td>0.610</td>\n",
              "      <td>0.65</td>\n",
              "    </tr>\n",
              "    <tr>\n",
              "      <th>4</th>\n",
              "      <td>GCN and sageconv (lstm+mean agg);;\\nonly raw node features; \\nbatch size: 512; imbalanced weights; l2 weight decay (1e-5)</td>\n",
              "      <td>0.600</td>\n",
              "      <td>0.651</td>\n",
              "    </tr>\n",
              "    <tr>\n",
              "      <th>5</th>\n",
              "      <td>GCN and sageconv (lstm+mean agg);;\\nonly raw node features; \\nbatch size: 512; imbalanced weights; l2 weight decay (1e-5)  + \\nearly stopping (tolerance=3)</td>\n",
              "      <td>0.630</td>\n",
              "      <td>0.655</td>\n",
              "    </tr>\n",
              "    <tr>\n",
              "      <th>6</th>\n",
              "      <td>GCN and sageconv (lstm+mean agg);;\\nonly raw node features; \\nbatch size: 64; imbalanced weights; l2 weight decay (1e-5) + \\nearly stopping (tolerance=3)</td>\n",
              "      <td>0.670</td>\n",
              "      <td>0.66</td>\n",
              "    </tr>\n",
              "    <tr>\n",
              "      <th>7</th>\n",
              "      <td>GCN and sageconv (lstm+mean agg);;\\nembedded node features; \\nbatch size: 64; imbalanced weights; l2 weight decay (1e-5) + \\nearly stopping (tolerance=10); bigger number of epochs;</td>\n",
              "      <td>0.781</td>\n",
              "      <td>~0.77</td>\n",
              "    </tr>\n",
              "    <tr>\n",
              "      <th>8</th>\n",
              "      <td>GCN and sageconv (lstm+mean agg);;\\nembedded node features;  embedded edge features as edge_weight\\nbatch size: 64; imbalanced weights; l2 weight decay (1e-5) + \\nearly stopping (tolerance=10); bigger number of epochs;</td>\n",
              "      <td>0.500</td>\n",
              "      <td>0.5</td>\n",
              "    </tr>\n",
              "    <tr>\n",
              "      <th>9</th>\n",
              "      <td>GCN and sageconv (lstm+mean agg);;\\nembedded node features;  embedded edge features in average + \\nconcat and dense\\nbatch size: 64; imbalanced weights; l2 weight decay (1e-5) + \\nearly stopping (tolerance=10)</td>\n",
              "      <td>0.745</td>\n",
              "      <td>0.69</td>\n",
              "    </tr>\n",
              "  </tbody>\n",
              "</table>\n",
              "</div>\n",
              "      <button class=\"colab-df-convert\" onclick=\"convertToInteractive('df-402daa84-6a28-44db-81ae-d94bc8a47d32')\"\n",
              "              title=\"Convert this dataframe to an interactive table.\"\n",
              "              style=\"display:none;\">\n",
              "        \n",
              "  <svg xmlns=\"http://www.w3.org/2000/svg\" height=\"24px\"viewBox=\"0 0 24 24\"\n",
              "       width=\"24px\">\n",
              "    <path d=\"M0 0h24v24H0V0z\" fill=\"none\"/>\n",
              "    <path d=\"M18.56 5.44l.94 2.06.94-2.06 2.06-.94-2.06-.94-.94-2.06-.94 2.06-2.06.94zm-11 1L8.5 8.5l.94-2.06 2.06-.94-2.06-.94L8.5 2.5l-.94 2.06-2.06.94zm10 10l.94 2.06.94-2.06 2.06-.94-2.06-.94-.94-2.06-.94 2.06-2.06.94z\"/><path d=\"M17.41 7.96l-1.37-1.37c-.4-.4-.92-.59-1.43-.59-.52 0-1.04.2-1.43.59L10.3 9.45l-7.72 7.72c-.78.78-.78 2.05 0 2.83L4 21.41c.39.39.9.59 1.41.59.51 0 1.02-.2 1.41-.59l7.78-7.78 2.81-2.81c.8-.78.8-2.07 0-2.86zM5.41 20L4 18.59l7.72-7.72 1.47 1.35L5.41 20z\"/>\n",
              "  </svg>\n",
              "      </button>\n",
              "      \n",
              "  <style>\n",
              "    .colab-df-container {\n",
              "      display:flex;\n",
              "      flex-wrap:wrap;\n",
              "      gap: 12px;\n",
              "    }\n",
              "\n",
              "    .colab-df-convert {\n",
              "      background-color: #E8F0FE;\n",
              "      border: none;\n",
              "      border-radius: 50%;\n",
              "      cursor: pointer;\n",
              "      display: none;\n",
              "      fill: #1967D2;\n",
              "      height: 32px;\n",
              "      padding: 0 0 0 0;\n",
              "      width: 32px;\n",
              "    }\n",
              "\n",
              "    .colab-df-convert:hover {\n",
              "      background-color: #E2EBFA;\n",
              "      box-shadow: 0px 1px 2px rgba(60, 64, 67, 0.3), 0px 1px 3px 1px rgba(60, 64, 67, 0.15);\n",
              "      fill: #174EA6;\n",
              "    }\n",
              "\n",
              "    [theme=dark] .colab-df-convert {\n",
              "      background-color: #3B4455;\n",
              "      fill: #D2E3FC;\n",
              "    }\n",
              "\n",
              "    [theme=dark] .colab-df-convert:hover {\n",
              "      background-color: #434B5C;\n",
              "      box-shadow: 0px 1px 3px 1px rgba(0, 0, 0, 0.15);\n",
              "      filter: drop-shadow(0px 1px 2px rgba(0, 0, 0, 0.3));\n",
              "      fill: #FFFFFF;\n",
              "    }\n",
              "  </style>\n",
              "\n",
              "      <script>\n",
              "        const buttonEl =\n",
              "          document.querySelector('#df-402daa84-6a28-44db-81ae-d94bc8a47d32 button.colab-df-convert');\n",
              "        buttonEl.style.display =\n",
              "          google.colab.kernel.accessAllowed ? 'block' : 'none';\n",
              "\n",
              "        async function convertToInteractive(key) {\n",
              "          const element = document.querySelector('#df-402daa84-6a28-44db-81ae-d94bc8a47d32');\n",
              "          const dataTable =\n",
              "            await google.colab.kernel.invokeFunction('convertToInteractive',\n",
              "                                                     [key], {});\n",
              "          if (!dataTable) return;\n",
              "\n",
              "          const docLinkHtml = 'Like what you see? Visit the ' +\n",
              "            '<a target=\"_blank\" href=https://colab.research.google.com/notebooks/data_table.ipynb>data table notebook</a>'\n",
              "            + ' to learn more about interactive tables.';\n",
              "          element.innerHTML = '';\n",
              "          dataTable['output_type'] = 'display_data';\n",
              "          await google.colab.output.renderOutput(dataTable, element);\n",
              "          const docLink = document.createElement('div');\n",
              "          docLink.innerHTML = docLinkHtml;\n",
              "          element.appendChild(docLink);\n",
              "        }\n",
              "      </script>\n",
              "    </div>\n",
              "  </div>\n",
              "  "
            ]
          },
          "metadata": {}
        }
      ],
      "source": [
        "import pandas as pd\n",
        "pd.set_option('display.max_colwidth', None)\n",
        "\n",
        "display(pd.read_csv('experiments_gcn.csv'))"
      ]
    },
    {
      "cell_type": "markdown",
      "id": "8cda8584",
      "metadata": {
        "id": "8cda8584"
      },
      "source": [
        "# Conclusions:\n",
        "1) Using sampling w.r.t distribution in the dataset (balanced_sampling) on average gives worser results; \n",
        "\n",
        "2) Using weighted loss improves rocauc score (basically because of the highly imbalanced weights)\n",
        "\n",
        "3) Adding l2 regularization helps \n",
        "\n",
        "4) Using embeddings for node features hepls a lot, no overfitting detected for longer period (basically because of the better representation of categorical features)\n",
        "\n",
        "5) Using embeddings of edges/raw edge features makes results worser both on the level of message passing (edge_weight) and mere inclusion to the network\n",
        "\n",
        "Interstingly, current setup of training achievies similar results to ones reported at the bottom of leaderboard (https://ogb.stanford.edu/docs/leader_graphprop/#ogbg-molhiv). A fine-tuning can possibly give better results. \n"
      ]
    },
    {
      "cell_type": "code",
      "execution_count": null,
      "id": "e7ce9e89",
      "metadata": {
        "id": "e7ce9e89"
      },
      "outputs": [],
      "source": [
        ""
      ]
    }
  ],
  "metadata": {
    "kernelspec": {
      "display_name": "Python 3 (ipykernel)",
      "language": "python",
      "name": "python3"
    },
    "language_info": {
      "codemirror_mode": {
        "name": "ipython",
        "version": 3
      },
      "file_extension": ".py",
      "mimetype": "text/x-python",
      "name": "python",
      "nbconvert_exporter": "python",
      "pygments_lexer": "ipython3",
      "version": "3.9.13"
    },
    "colab": {
      "name": "homework_assignment_2.ipynb",
      "provenance": []
    },
    "accelerator": "GPU",
    "gpuClass": "standard"
  },
  "nbformat": 4,
  "nbformat_minor": 5
}